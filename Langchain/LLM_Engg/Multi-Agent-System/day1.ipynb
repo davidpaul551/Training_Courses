{
 "cells": [
  {
   "cell_type": "markdown",
   "id": "e426cd04-c053-43e8-b505-63cee7956a53",
   "metadata": {
    "id": "e426cd04-c053-43e8-b505-63cee7956a53"
   },
   "source": [
    "# Welcome to a very busy Week 8 folder\n",
    "\n",
    "## We have lots to do this week!\n",
    "\n",
    "We'll move at a faster pace than usual, particularly as you're becoming proficient LLM engineers.\n"
   ]
  },
  {
   "cell_type": "code",
   "execution_count": 5,
   "id": "2ed66785",
   "metadata": {
    "colab": {
     "base_uri": "https://localhost:8080/"
    },
    "id": "2ed66785",
    "outputId": "2a9aa485-8a96-4ccf-8b54-319c165b8197"
   },
   "outputs": [
    {
     "name": "stdout",
     "output_type": "stream",
     "text": [
      "Requirement already satisfied: modal in c:\\users\\david.doggala\\onedrive - ascendion\\desktop\\langchain\\llm_engg\\multi-agent-system\\.venv\\lib\\site-packages (0.73.116)\n",
      "Requirement already satisfied: aiohttp in c:\\users\\david.doggala\\onedrive - ascendion\\desktop\\langchain\\llm_engg\\multi-agent-system\\.venv\\lib\\site-packages (from modal) (3.11.14)\n",
      "Requirement already satisfied: certifi in c:\\users\\david.doggala\\onedrive - ascendion\\desktop\\langchain\\llm_engg\\multi-agent-system\\.venv\\lib\\site-packages (from modal) (2025.1.31)\n",
      "Requirement already satisfied: click>=8.1.0 in c:\\users\\david.doggala\\onedrive - ascendion\\desktop\\langchain\\llm_engg\\multi-agent-system\\.venv\\lib\\site-packages (from modal) (8.1.8)\n",
      "Requirement already satisfied: fastapi in c:\\users\\david.doggala\\onedrive - ascendion\\desktop\\langchain\\llm_engg\\multi-agent-system\\.venv\\lib\\site-packages (from modal) (0.115.11)\n",
      "Requirement already satisfied: grpclib==0.4.7 in c:\\users\\david.doggala\\onedrive - ascendion\\desktop\\langchain\\llm_engg\\multi-agent-system\\.venv\\lib\\site-packages (from modal) (0.4.7)\n",
      "Requirement already satisfied: protobuf!=4.24.0,<6.0,>=3.19 in c:\\users\\david.doggala\\onedrive - ascendion\\desktop\\langchain\\llm_engg\\multi-agent-system\\.venv\\lib\\site-packages (from modal) (5.29.4)\n",
      "Requirement already satisfied: rich>=12.0.0 in c:\\users\\david.doggala\\onedrive - ascendion\\desktop\\langchain\\llm_engg\\multi-agent-system\\.venv\\lib\\site-packages (from modal) (13.9.4)\n",
      "Requirement already satisfied: synchronicity~=0.9.10 in c:\\users\\david.doggala\\onedrive - ascendion\\desktop\\langchain\\llm_engg\\multi-agent-system\\.venv\\lib\\site-packages (from modal) (0.9.11)\n",
      "Requirement already satisfied: toml in c:\\users\\david.doggala\\onedrive - ascendion\\desktop\\langchain\\llm_engg\\multi-agent-system\\.venv\\lib\\site-packages (from modal) (0.10.2)\n",
      "Requirement already satisfied: typer>=0.9 in c:\\users\\david.doggala\\onedrive - ascendion\\desktop\\langchain\\llm_engg\\multi-agent-system\\.venv\\lib\\site-packages (from modal) (0.15.2)\n",
      "Requirement already satisfied: types-certifi in c:\\users\\david.doggala\\onedrive - ascendion\\desktop\\langchain\\llm_engg\\multi-agent-system\\.venv\\lib\\site-packages (from modal) (2021.10.8.3)\n",
      "Requirement already satisfied: types-toml in c:\\users\\david.doggala\\onedrive - ascendion\\desktop\\langchain\\llm_engg\\multi-agent-system\\.venv\\lib\\site-packages (from modal) (0.10.8.20240310)\n",
      "Requirement already satisfied: watchfiles in c:\\users\\david.doggala\\onedrive - ascendion\\desktop\\langchain\\llm_engg\\multi-agent-system\\.venv\\lib\\site-packages (from modal) (1.0.4)\n",
      "Requirement already satisfied: typing_extensions~=4.6 in c:\\users\\david.doggala\\onedrive - ascendion\\desktop\\langchain\\llm_engg\\multi-agent-system\\.venv\\lib\\site-packages (from modal) (4.12.2)\n",
      "Requirement already satisfied: h2<5,>=3.1.0 in c:\\users\\david.doggala\\onedrive - ascendion\\desktop\\langchain\\llm_engg\\multi-agent-system\\.venv\\lib\\site-packages (from grpclib==0.4.7->modal) (4.2.0)\n",
      "Requirement already satisfied: multidict in c:\\users\\david.doggala\\onedrive - ascendion\\desktop\\langchain\\llm_engg\\multi-agent-system\\.venv\\lib\\site-packages (from grpclib==0.4.7->modal) (6.2.0)\n",
      "Requirement already satisfied: colorama in c:\\users\\david.doggala\\onedrive - ascendion\\desktop\\langchain\\llm_engg\\multi-agent-system\\.venv\\lib\\site-packages (from click>=8.1.0->modal) (0.4.6)\n",
      "Requirement already satisfied: markdown-it-py>=2.2.0 in c:\\users\\david.doggala\\onedrive - ascendion\\desktop\\langchain\\llm_engg\\multi-agent-system\\.venv\\lib\\site-packages (from rich>=12.0.0->modal) (3.0.0)\n",
      "Requirement already satisfied: pygments<3.0.0,>=2.13.0 in c:\\users\\david.doggala\\onedrive - ascendion\\desktop\\langchain\\llm_engg\\multi-agent-system\\.venv\\lib\\site-packages (from rich>=12.0.0->modal) (2.19.1)\n",
      "Requirement already satisfied: sigtools>=4.0.1 in c:\\users\\david.doggala\\onedrive - ascendion\\desktop\\langchain\\llm_engg\\multi-agent-system\\.venv\\lib\\site-packages (from synchronicity~=0.9.10->modal) (4.0.1)\n",
      "Requirement already satisfied: shellingham>=1.3.0 in c:\\users\\david.doggala\\onedrive - ascendion\\desktop\\langchain\\llm_engg\\multi-agent-system\\.venv\\lib\\site-packages (from typer>=0.9->modal) (1.5.4)\n",
      "Requirement already satisfied: aiohappyeyeballs>=2.3.0 in c:\\users\\david.doggala\\onedrive - ascendion\\desktop\\langchain\\llm_engg\\multi-agent-system\\.venv\\lib\\site-packages (from aiohttp->modal) (2.6.1)\n",
      "Requirement already satisfied: aiosignal>=1.1.2 in c:\\users\\david.doggala\\onedrive - ascendion\\desktop\\langchain\\llm_engg\\multi-agent-system\\.venv\\lib\\site-packages (from aiohttp->modal) (1.3.2)\n",
      "Requirement already satisfied: attrs>=17.3.0 in c:\\users\\david.doggala\\onedrive - ascendion\\desktop\\langchain\\llm_engg\\multi-agent-system\\.venv\\lib\\site-packages (from aiohttp->modal) (25.3.0)\n",
      "Requirement already satisfied: frozenlist>=1.1.1 in c:\\users\\david.doggala\\onedrive - ascendion\\desktop\\langchain\\llm_engg\\multi-agent-system\\.venv\\lib\\site-packages (from aiohttp->modal) (1.5.0)\n",
      "Requirement already satisfied: propcache>=0.2.0 in c:\\users\\david.doggala\\onedrive - ascendion\\desktop\\langchain\\llm_engg\\multi-agent-system\\.venv\\lib\\site-packages (from aiohttp->modal) (0.3.0)\n",
      "Requirement already satisfied: yarl<2.0,>=1.17.0 in c:\\users\\david.doggala\\onedrive - ascendion\\desktop\\langchain\\llm_engg\\multi-agent-system\\.venv\\lib\\site-packages (from aiohttp->modal) (1.18.3)\n",
      "Requirement already satisfied: starlette<0.47.0,>=0.40.0 in c:\\users\\david.doggala\\onedrive - ascendion\\desktop\\langchain\\llm_engg\\multi-agent-system\\.venv\\lib\\site-packages (from fastapi->modal) (0.46.1)\n",
      "Requirement already satisfied: pydantic!=1.8,!=1.8.1,!=2.0.0,!=2.0.1,!=2.1.0,<3.0.0,>=1.7.4 in c:\\users\\david.doggala\\onedrive - ascendion\\desktop\\langchain\\llm_engg\\multi-agent-system\\.venv\\lib\\site-packages (from fastapi->modal) (2.10.6)\n",
      "Requirement already satisfied: anyio>=3.0.0 in c:\\users\\david.doggala\\onedrive - ascendion\\desktop\\langchain\\llm_engg\\multi-agent-system\\.venv\\lib\\site-packages (from watchfiles->modal) (4.9.0)\n",
      "Requirement already satisfied: idna>=2.8 in c:\\users\\david.doggala\\onedrive - ascendion\\desktop\\langchain\\llm_engg\\multi-agent-system\\.venv\\lib\\site-packages (from anyio>=3.0.0->watchfiles->modal) (3.10)\n",
      "Requirement already satisfied: sniffio>=1.1 in c:\\users\\david.doggala\\onedrive - ascendion\\desktop\\langchain\\llm_engg\\multi-agent-system\\.venv\\lib\\site-packages (from anyio>=3.0.0->watchfiles->modal) (1.3.1)\n",
      "Requirement already satisfied: hyperframe<7,>=6.1 in c:\\users\\david.doggala\\onedrive - ascendion\\desktop\\langchain\\llm_engg\\multi-agent-system\\.venv\\lib\\site-packages (from h2<5,>=3.1.0->grpclib==0.4.7->modal) (6.1.0)\n",
      "Requirement already satisfied: hpack<5,>=4.1 in c:\\users\\david.doggala\\onedrive - ascendion\\desktop\\langchain\\llm_engg\\multi-agent-system\\.venv\\lib\\site-packages (from h2<5,>=3.1.0->grpclib==0.4.7->modal) (4.1.0)\n",
      "Requirement already satisfied: mdurl~=0.1 in c:\\users\\david.doggala\\onedrive - ascendion\\desktop\\langchain\\llm_engg\\multi-agent-system\\.venv\\lib\\site-packages (from markdown-it-py>=2.2.0->rich>=12.0.0->modal) (0.1.2)\n",
      "Requirement already satisfied: annotated-types>=0.6.0 in c:\\users\\david.doggala\\onedrive - ascendion\\desktop\\langchain\\llm_engg\\multi-agent-system\\.venv\\lib\\site-packages (from pydantic!=1.8,!=1.8.1,!=2.0.0,!=2.0.1,!=2.1.0,<3.0.0,>=1.7.4->fastapi->modal) (0.7.0)\n",
      "Requirement already satisfied: pydantic-core==2.27.2 in c:\\users\\david.doggala\\onedrive - ascendion\\desktop\\langchain\\llm_engg\\multi-agent-system\\.venv\\lib\\site-packages (from pydantic!=1.8,!=1.8.1,!=2.0.0,!=2.0.1,!=2.1.0,<3.0.0,>=1.7.4->fastapi->modal) (2.27.2)\n",
      "Note: you may need to restart the kernel to use updated packages.\n"
     ]
    },
    {
     "name": "stderr",
     "output_type": "stream",
     "text": [
      "\n",
      "[notice] A new release of pip is available: 23.2.1 -> 25.0.1\n",
      "[notice] To update, run: python.exe -m pip install --upgrade pip\n"
     ]
    }
   ],
   "source": [
    "pip install modal"
   ]
  },
  {
   "cell_type": "code",
   "execution_count": 4,
   "id": "bc0e1c1c-be6a-4395-bbbd-eeafc9330d7e",
   "metadata": {
    "id": "bc0e1c1c-be6a-4395-bbbd-eeafc9330d7e"
   },
   "outputs": [],
   "source": [
    "# Just one import to start with!!\n",
    "\n",
    "import modal"
   ]
  },
  {
   "cell_type": "markdown",
   "id": "ab5c8533-9f66-448f-b9b2-133d1ff50639",
   "metadata": {
    "id": "ab5c8533-9f66-448f-b9b2-133d1ff50639"
   },
   "source": [
    "# Setting up the modal tokens\n",
    "\n",
    "The first time you run this, please uncomment the next line and execute it.  \n",
    "This is the same as running `modal setup` from the command line. It connects with Modal and installs your tokens.  \n",
    "\n",
    "## Debugging some common problems on Windows\n",
    "\n",
    "If this command fails in the next cell, or if any of the modal commands with the `!` fail, please try running them directly on the command line in an activated environment (without the `!`)\n",
    "\n",
    "A student on Windows mentioned that on Windows, you might also need to run this command from a command prompt in an activated environment afterwards:  \n",
    "`modal token new`  \n",
    "(Thank you Ed B. for that!)\n",
    "\n",
    "Also, a student David S. mentioned the following:  \n",
    "> In case anyone else using Windows hits this problem: Along with having to run `modal token new` from a command prompt, you have to move the generated token file. It will deploy the token file (.modal.toml) to your Windows profile folder. The virtual environment couldn't see that location (strangely, it couldn't even after I set environment variables for it and rebooted). I moved that token file to the folder I'm operating out of for the lab and it stopped throwing auth errors.\n",
    "\n",
    "Finally: I've also heard that in some situations, you might need to restart the Kernel of this jupyter notebook after running this. (Kernel menu >> Restart Kernel and Clear Outputs of All Cells)."
   ]
  },
  {
   "cell_type": "code",
   "execution_count": 3,
   "id": "0d240622-8422-4c99-8464-c04d063e4cb6",
   "metadata": {
    "colab": {
     "base_uri": "https://localhost:8080/"
    },
    "id": "0d240622-8422-4c99-8464-c04d063e4cb6",
    "outputId": "9f39a601-69e1-433d-9f9a-4e8fc7af6e44"
   },
   "outputs": [
    {
     "name": "stderr",
     "output_type": "stream",
     "text": [
      "+- Error ---------------------------------------------------------------------+\n",
      "| Could not connect to the Modal server.                                      |\n",
      "+-----------------------------------------------------------------------------+\n"
     ]
    }
   ],
   "source": [
    "# Remove the '# ' from the next line and run the cell\n",
    "!modal setup"
   ]
  },
  {
   "cell_type": "code",
   "execution_count": 4,
   "id": "3rfqhIXqN50L",
   "metadata": {
    "colab": {
     "base_uri": "https://localhost:8080/"
    },
    "id": "3rfqhIXqN50L",
    "outputId": "8f5917e6-ddf4-44cd-9a91-10b784c94b33"
   },
   "outputs": [
    {
     "name": "stderr",
     "output_type": "stream",
     "text": [
      "+- Error ---------------------------------------------------------------------+\n",
      "| Could not connect to the Modal server.                                      |\n",
      "+-----------------------------------------------------------------------------+\n"
     ]
    }
   ],
   "source": [
    "!modal token new"
   ]
  },
  {
   "cell_type": "code",
   "execution_count": 5,
   "id": "ygDPFecVdoJF",
   "metadata": {
    "colab": {
     "base_uri": "https://localhost:8080/"
    },
    "id": "ygDPFecVdoJF",
    "outputId": "6b6ab753-1487-4439-90cb-dfe3f8800aa8"
   },
   "outputs": [
    {
     "name": "stdout",
     "output_type": "stream",
     "text": [
      "Verifying token against https://api.modal.com"
     ]
    },
    {
     "name": "stderr",
     "output_type": "stream",
     "text": [
      "+- Error ---------------------------------------------------------------------+\n",
      "| Could not connect to the Modal server.                                      |\n",
      "+-----------------------------------------------------------------------------+\n"
     ]
    },
    {
     "name": "stdout",
     "output_type": "stream",
     "text": [
      "\n"
     ]
    }
   ],
   "source": [
    "!modal token set --token-id ak-jQHflODSwGNvab97cT9lRY --token-secret as-DKP5ZJY5GM3AG1LdZm6x32"
   ]
  },
  {
   "cell_type": "code",
   "execution_count": 3,
   "id": "cc9f7913-f270-4ac4-aead-d2958a191f02",
   "metadata": {},
   "outputs": [
    {
     "name": "stdout",
     "output_type": "stream",
     "text": [
      "HTTP/1.1 502 Bad Gateway\n",
      "Date: Thu, 20 Mar 2025 17:26:26 GMT\n",
      "Content-Type: text/html\n",
      "Content-Length: 150\n",
      "Connection: close\n",
      "Strict-Transport-Security: max-age=31536000; includeSubDomains\n",
      "\n"
     ]
    },
    {
     "name": "stderr",
     "output_type": "stream",
     "text": [
      "  % Total    % Received % Xferd  Average Speed   Time    Time     Time  Current\n",
      "                                 Dload  Upload   Total   Spent    Left  Speed\n",
      "\n",
      "  0     0    0     0    0     0      0      0 --:--:-- --:--:-- --:--:--     0\n",
      "  0   150    0     0    0     0      0      0 --:--:-- --:--:-- --:--:--     0\n"
     ]
    }
   ],
   "source": [
    "!curl -I https://api.modal.com"
   ]
  },
  {
   "cell_type": "code",
   "execution_count": 14,
   "id": "059f5b92-0dd4-46ff-b6d1-576663d12422",
   "metadata": {},
   "outputs": [
    {
     "name": "stdout",
     "output_type": "stream",
     "text": [
      "\n",
      "Pinging api.modal.com [54.158.199.14] with 32 bytes of data:\n",
      "Request timed out.\n",
      "Request timed out.\n",
      "Request timed out.\n",
      "Request timed out.\n",
      "\n",
      "Ping statistics for 54.158.199.14:\n",
      "    Packets: Sent = 4, Received = 0, Lost = 4 (100% loss),\n"
     ]
    }
   ],
   "source": [
    "!ping api.modal.com"
   ]
  },
  {
   "cell_type": "code",
   "execution_count": 11,
   "id": "050eeab0-ada2-4d88-8f36-e284a763cbaa",
   "metadata": {},
   "outputs": [
    {
     "name": "stdout",
     "output_type": "stream",
     "text": [
      "modal client version: 0.73.116\n"
     ]
    }
   ],
   "source": [
    "!modal --version"
   ]
  },
  {
   "cell_type": "code",
   "execution_count": 12,
   "id": "6d9a33b6-717e-4bbe-a2e5-9c348e759536",
   "metadata": {},
   "outputs": [],
   "source": [
    "import os\n",
    "os.environ[\"MODAL_TOKEN_ID\"] = \"ak-jQHflODSwGNvab97cT9lRY\"\n",
    "os.environ[\"MODAL_TOKEN_SECRET\"] = \"as-DKP5ZJY5GM3AG1LdZm6x32\""
   ]
  },
  {
   "cell_type": "code",
   "execution_count": 15,
   "id": "9f04f795-d247-48c6-9a39-83786c41afb4",
   "metadata": {},
   "outputs": [
    {
     "name": "stderr",
     "output_type": "stream",
     "text": [
      "+- Error ---------------------------------------------------------------------+\n",
      "| Could not connect to the Modal server.                                      |\n",
      "+-----------------------------------------------------------------------------+\n"
     ]
    }
   ],
   "source": [
    "!modal profile list"
   ]
  },
  {
   "cell_type": "code",
   "execution_count": 9,
   "id": "cwpEjb5Ep6-E",
   "metadata": {
    "colab": {
     "base_uri": "https://localhost:8080/"
    },
    "id": "cwpEjb5Ep6-E",
    "outputId": "6f6763e4-fa07-46ea-e704-36d26960b157"
   },
   "outputs": [
    {
     "ename": "SyntaxError",
     "evalue": "invalid syntax (3033802001.py, line 1)",
     "output_type": "error",
     "traceback": [
      "  \u001b[36mCell\u001b[39m\u001b[36m \u001b[39m\u001b[32mIn[9]\u001b[39m\u001b[32m, line 1\u001b[39m\n\u001b[31m    \u001b[39m\u001b[31mcat /root/.modal.toml\u001b[39m\n              ^\n\u001b[31mSyntaxError\u001b[39m\u001b[31m:\u001b[39m invalid syntax\n"
     ]
    }
   ],
   "source": [
    "cat /root/.modal.toml"
   ]
  },
  {
   "cell_type": "code",
   "execution_count": 10,
   "id": "kyt1Y4QpMioq",
   "metadata": {
    "colab": {
     "base_uri": "https://localhost:8080/"
    },
    "id": "kyt1Y4QpMioq",
    "outputId": "6c128374-f3d5-4193-be8c-0a106d535b3e"
   },
   "outputs": [
    {
     "name": "stdout",
     "output_type": "stream",
     "text": [
      "[WinError 3] The system cannot find the path specified: '/content/drive/MyDrive/Multi-Agent-System'\n",
      "c:\\Users\\david.doggala\\OneDrive - ascendion\\Desktop\\Langchain\\LLM_Engg\\Multi-Agent-System\n"
     ]
    },
    {
     "name": "stderr",
     "output_type": "stream",
     "text": [
      "'ls' is not recognized as an internal or external command,\n",
      "operable program or batch file.\n"
     ]
    }
   ],
   "source": [
    "%cd /content/drive/MyDrive/Multi-Agent-System\n",
    "!ls -lah  # Check if hello.py is there\n"
   ]
  },
  {
   "cell_type": "code",
   "execution_count": null,
   "id": "eIX7HvXrMsYS",
   "metadata": {
    "id": "eIX7HvXrMsYS"
   },
   "outputs": [],
   "source": [
    "import sys\n",
    "sys.path.append('/content/drive/MyDrive/Multi-Agent-System')"
   ]
  },
  {
   "cell_type": "code",
   "execution_count": null,
   "id": "3b133701-f550-44a1-a67f-eb7ccc4769a9",
   "metadata": {
    "colab": {
     "base_uri": "https://localhost:8080/"
    },
    "id": "3b133701-f550-44a1-a67f-eb7ccc4769a9",
    "outputId": "8f1caaea-9e04-4988-fa37-f208e5d19654"
   },
   "outputs": [
    {
     "name": "stderr",
     "output_type": "stream",
     "text": [
      "/content/drive/MyDrive/Multi-Agent-System/hello.py:8: DeprecationError: 2025-02-03: Modal will stop implicitly adding local Python modules to the Image (\"automounting\") in a future update. The following modules need to be explicitly added for future compatibility:\n",
      "* modal_tokens\n",
      "\n",
      "e.g.:\n",
      "image_with_source = my_image.add_local_python_source(\"modal_tokens\")\n",
      "\n",
      "For more information, see https://modal.com/docs/guide/modal-1-0-migration\n",
      "  @app.function(image=image)\n"
     ]
    }
   ],
   "source": [
    "from hello import app, hello"
   ]
  },
  {
   "cell_type": "code",
   "execution_count": null,
   "id": "FKG-8O0tLF3P",
   "metadata": {
    "colab": {
     "base_uri": "https://localhost:8080/"
    },
    "id": "FKG-8O0tLF3P",
    "outputId": "f070d702-9da5-4ba7-85a4-a2071cd2d018"
   },
   "outputs": [
    {
     "name": "stdout",
     "output_type": "stream",
     "text": [
      "Mounted at /content/drive\n"
     ]
    }
   ],
   "source": [
    "from google.colab import drive\n",
    "drive.mount('/content/drive')"
   ]
  },
  {
   "cell_type": "code",
   "execution_count": null,
   "id": "0f3f73ae-1295-49f3-9099-b8b41fc3429b",
   "metadata": {
    "colab": {
     "base_uri": "https://localhost:8080/"
    },
    "id": "0f3f73ae-1295-49f3-9099-b8b41fc3429b",
    "outputId": "c3978128-bf47-4029-87e8-0aec63d9796d"
   },
   "outputs": [
    {
     "name": "stdout",
     "output_type": "stream",
     "text": [
      "Hello from North Charleston, South Carolina, US!!\n"
     ]
    }
   ],
   "source": [
    "with app.run():\n",
    "    reply=hello.local()\n",
    "print(reply)"
   ]
  },
  {
   "cell_type": "code",
   "execution_count": null,
   "id": "CmOOvjFs6Q2_",
   "metadata": {
    "colab": {
     "base_uri": "https://localhost:8080/"
    },
    "id": "CmOOvjFs6Q2_",
    "outputId": "d7c7e760-af78-4539-eba0-c86ad15ef78c"
   },
   "outputs": [
    {
     "name": "stdout",
     "output_type": "stream",
     "text": [
      "App deployed successfully\n"
     ]
    }
   ],
   "source": [
    "# Cell 1: Install, set tokens, and define files\n",
    "\n",
    "# Write modal_tokens.py (for local token setting)\n",
    "with open(\"modal_tokens.py\", \"w\") as f:\n",
    "    f.write(\"\"\"\n",
    "def load_tokens():\n",
    "    import os\n",
    "    os.environ[\"MODAL_TOKEN_ID\"] = \"ak-jQHflODSwGNvab97cT9lRY\"\n",
    "    os.environ[\"MODAL_TOKEN_SECRET\"] = \"as-DKP5ZJY5GM3AG1LdZm6x32\"\n",
    "\"\"\")\n",
    "\n",
    "# Write hello.py (no modal_tokens import)\n",
    "with open(\"hello.py\", \"w\") as f:\n",
    "    f.write(\"\"\"\n",
    "import modal\n",
    "from modal import App, Image\n",
    "\n",
    "app = modal.App(\"hello-v2\")  # Unique name to avoid old deployment\n",
    "image = Image.debian_slim().pip_install(\"requests\")\n",
    "\n",
    "@app.function(image=image)\n",
    "def hello() -> str:\n",
    "    import requests\n",
    "    response = requests.get('https://ipinfo.io/json')\n",
    "    data = response.json()\n",
    "    city, region, country = data['city'], data['region'], data['country']\n",
    "    return f\"Hello from {city}, {region}, {country}!!\"\n",
    "\"\"\")\n",
    "\n",
    "# Set tokens locally and import app\n",
    "from modal_tokens import load_tokens\n",
    "load_tokens()\n",
    "from hello import app, hello\n",
    "\n",
    "# Deploy the app (optional explicit deployment)\n",
    "with app.run():\n",
    "    print(\"App deployed successfully\")"
   ]
  },
  {
   "cell_type": "code",
   "execution_count": null,
   "id": "c1d8c6f9-edc7-4e52-9b3a-c07d7cff1ac7",
   "metadata": {
    "colab": {
     "base_uri": "https://localhost:8080/"
    },
    "id": "c1d8c6f9-edc7-4e52-9b3a-c07d7cff1ac7",
    "outputId": "bc314bd1-0a46-41d0-f72a-d8b6924a07e5"
   },
   "outputs": [
    {
     "name": "stdout",
     "output_type": "stream",
     "text": [
      "Hello from Ashburn, Virginia, US!!\n"
     ]
    }
   ],
   "source": [
    "# Cell 2: Run remotely\n",
    "from hello import app, hello\n",
    "\n",
    "with app.run():\n",
    "    reply = hello.remote()\n",
    "    print(reply)"
   ]
  },
  {
   "cell_type": "markdown",
   "id": "22e8d804-c027-45fb-8fef-06e7bba6295a",
   "metadata": {
    "id": "22e8d804-c027-45fb-8fef-06e7bba6295a"
   },
   "source": [
    "# Before we move on -\n",
    "\n",
    "## We need to set your HuggingFace Token as a secret in Modal\n",
    "\n",
    "1. Go to modal.com, sign in and go to your dashboard\n",
    "2. Click on Secrets in the nav bar\n",
    "3. Create new secret, click on Hugging Face, this new secret needs to be called **hf-secret** because that's how we refer to it in the code\n",
    "4. Fill in your HF_TOKEN where it prompts you\n",
    "\n",
    "### And now back to business: time to work with Llama"
   ]
  },
  {
   "cell_type": "code",
   "execution_count": null,
   "id": "7h43RBcZCs6S",
   "metadata": {
    "colab": {
     "base_uri": "https://localhost:8080/"
    },
    "id": "7h43RBcZCs6S",
    "outputId": "986727f3-8985-403c-bf57-6f7aa6204345"
   },
   "outputs": [
    {
     "name": "stdout",
     "output_type": "stream",
     "text": [
      "Contents of llama.py:\n",
      "\n",
      "import modal\n",
      "from modal import App, Volume, Image\n",
      "\n",
      "app = modal.App(\"llama-v3\")  # New unique name\n",
      "image = Image.debian_slim().pip_install(\"torch\", \"transformers\", \"bitsandbytes\", \"accelerate\")\n",
      "secrets = [modal.Secret.from_name(\"huggingface-secret\")]\n",
      "GPU = \"T4\"\n",
      "MODEL_NAME = \"TinyLlama/TinyLlama-1.1B-Chat-v1.0\"\n",
      "\n",
      "@app.function(image=image, secrets=secrets, gpu=GPU, timeout=1800)\n",
      "def generate(prompt: str) -> str:\n",
      "    import torch\n",
      "    from transformers import AutoTokenizer, AutoModelForCausalLM, BitsAndBytesConfig, set_seed\n",
      "\n",
      "    quant_config = BitsAndBytesConfig(\n",
      "        load_in_4bit=True,\n",
      "        bnb_4bit_use_double_quant=True,\n",
      "        bnb_4bit_compute_dtype=torch.bfloat16,\n",
      "        bnb_4bit_quant_type=\"nf4\"\n",
      "    )\n",
      "\n",
      "    tokenizer = AutoTokenizer.from_pretrained(MODEL_NAME)\n",
      "    tokenizer.pad_token = tokenizer.eos_token\n",
      "    tokenizer.padding_side = \"right\"\n",
      "    \n",
      "    model = AutoModelForCausalLM.from_pretrained(\n",
      "        MODEL_NAME, \n",
      "        quantization_config=quant_config,\n",
      "        device_map=\"auto\"\n",
      "    )\n",
      "\n",
      "    set_seed(42)\n",
      "    inputs = tokenizer.encode(prompt, return_tensors=\"pt\").to(\"cuda\")\n",
      "    attention_mask = torch.ones(inputs.shape, device=\"cuda\")\n",
      "    outputs = model.generate(inputs, attention_mask=attention_mask, max_new_tokens=5, num_return_sequences=1)\n",
      "    return tokenizer.decode(outputs[0])\n"
     ]
    },
    {
     "name": "stderr",
     "output_type": "stream",
     "text": [
      "/content/drive/MyDrive/Multi-Agent-System/llama.py:11: DeprecationError: 2025-02-03: Modal will stop implicitly adding local Python modules to the Image (\"automounting\") in a future update. The following modules need to be explicitly added for future compatibility:\n",
      "* hello\n",
      "* modal_tokens\n",
      "\n",
      "e.g.:\n",
      "image_with_source = my_image.add_local_python_source(\"hello\", \"modal_tokens\")\n",
      "\n",
      "For more information, see https://modal.com/docs/guide/modal-1-0-migration\n",
      "  @app.function(image=image, secrets=secrets, gpu=GPU, timeout=1800)\n"
     ]
    }
   ],
   "source": [
    "# Install modal\n",
    "\n",
    "# Set Modal tokens locally\n",
    "with open(\"modal_tokens.py\", \"w\") as f:\n",
    "    f.write(\"\"\"\n",
    "def load_tokens():\n",
    "    import os\n",
    "    os.environ[\"MODAL_TOKEN_ID\"] = \"ak-jQHflODSwGNvab97cT9lRY\"\n",
    "    os.environ[\"MODAL_TOKEN_SECRET\"] = \"as-DKP5ZJY5GM3AG1LdZm6x32\"\n",
    "\"\"\")\n",
    "\n",
    "# Define the app in llama.py with huggingface-secret and a new app name\n",
    "with open(\"llama.py\", \"w\") as f:\n",
    "    f.write(\"\"\"\n",
    "import modal\n",
    "from modal import App, Volume, Image\n",
    "\n",
    "app = modal.App(\"llama-v3\")  # New unique name\n",
    "image = Image.debian_slim().pip_install(\"torch\", \"transformers\", \"bitsandbytes\", \"accelerate\")\n",
    "secrets = [modal.Secret.from_name(\"huggingface-secret\")]\n",
    "GPU = \"T4\"\n",
    "MODEL_NAME = \"TinyLlama/TinyLlama-1.1B-Chat-v1.0\"\n",
    "\n",
    "@app.function(image=image, secrets=secrets, gpu=GPU, timeout=1800)\n",
    "def generate(prompt: str) -> str:\n",
    "    import torch\n",
    "    from transformers import AutoTokenizer, AutoModelForCausalLM, BitsAndBytesConfig, set_seed\n",
    "\n",
    "    quant_config = BitsAndBytesConfig(\n",
    "        load_in_4bit=True,\n",
    "        bnb_4bit_use_double_quant=True,\n",
    "        bnb_4bit_compute_dtype=torch.bfloat16,\n",
    "        bnb_4bit_quant_type=\"nf4\"\n",
    "    )\n",
    "\n",
    "    tokenizer = AutoTokenizer.from_pretrained(MODEL_NAME)\n",
    "    tokenizer.pad_token = tokenizer.eos_token\n",
    "    tokenizer.padding_side = \"right\"\n",
    "\n",
    "    model = AutoModelForCausalLM.from_pretrained(\n",
    "        MODEL_NAME,\n",
    "        quantization_config=quant_config,\n",
    "        device_map=\"auto\"\n",
    "    )\n",
    "\n",
    "    set_seed(42)\n",
    "    inputs = tokenizer.encode(prompt, return_tensors=\"pt\").to(\"cuda\")\n",
    "    attention_mask = torch.ones(inputs.shape, device=\"cuda\")\n",
    "    outputs = model.generate(inputs, attention_mask=attention_mask, max_new_tokens=5, num_return_sequences=1)\n",
    "    return tokenizer.decode(outputs[0])\n",
    "\"\"\")\n",
    "\n",
    "# Load tokens and import app\n",
    "from modal_tokens import load_tokens\n",
    "load_tokens()\n",
    "\n",
    "# Clear any old module cache\n",
    "import sys\n",
    "if \"llama\" in sys.modules:\n",
    "    del sys.modules[\"llama\"]\n",
    "\n",
    "from llama import app, generate\n",
    "\n",
    "# Verify the file contents\n",
    "print(\"Contents of llama.py:\")\n",
    "!cat llama.py"
   ]
  },
  {
   "cell_type": "code",
   "execution_count": null,
   "id": "db4a718a-d95d-4f61-9688-c9df21d88fe6",
   "metadata": {
    "colab": {
     "base_uri": "https://localhost:8080/",
     "height": 210,
     "referenced_widgets": [
      "a891f5fa3e92455c8eddcdee81b6b32a",
      "b4ac8e6de172464dbfc3fb1e4c538bcd",
      "0cb7289efd5444c287314ac751d2e3f4",
      "1c7780b2341a47e7a69542a7ec4653fd",
      "71ad2905b6d745bd882be47c402d5e1f",
      "2cc971d770584f11af1b9399aafc9091"
     ]
    },
    "id": "db4a718a-d95d-4f61-9688-c9df21d88fe6",
    "outputId": "f10492ce-ca8b-4836-fee1-d61d29cf38ba"
   },
   "outputs": [
    {
     "data": {
      "application/vnd.jupyter.widget-view+json": {
       "model_id": "a891f5fa3e92455c8eddcdee81b6b32a",
       "version_major": 2,
       "version_minor": 0
      },
      "text/plain": [
       "Output()"
      ]
     },
     "metadata": {},
     "output_type": "display_data"
    },
    {
     "data": {
      "text/html": [
       "<pre style=\"white-space:pre;overflow-x:auto;line-height:normal;font-family:Menlo,'DejaVu Sans Mono',consolas,'Courier New',monospace\"><span style=\"color: #008000; text-decoration-color: #008000\">✓</span> Initialized. <span style=\"color: #b2b2b2; text-decoration-color: #b2b2b2\">View run at </span><span style=\"color: #b2b2b2; text-decoration-color: #b2b2b2; text-decoration: underline\">https://modal.com/apps/pauldavid551/main/ap-bHZtDu482Elp7MMffNOMvz</span>\n",
       "</pre>\n"
      ],
      "text/plain": [
       "\u001b[32m✓\u001b[0m Initialized. \u001b[38;5;249mView run at \u001b[0m\u001b[4;38;5;249mhttps://modal.com/apps/pauldavid551/main/ap-bHZtDu482Elp7MMffNOMvz\u001b[0m\n"
      ]
     },
     "metadata": {},
     "output_type": "display_data"
    },
    {
     "data": {
      "text/html": [
       "<pre style=\"white-space:pre;overflow-x:auto;line-height:normal;font-family:Menlo,'DejaVu Sans Mono',consolas,'Courier New',monospace\"></pre>\n"
      ],
      "text/plain": []
     },
     "metadata": {},
     "output_type": "display_data"
    },
    {
     "data": {
      "application/vnd.jupyter.widget-view+json": {
       "model_id": "0cb7289efd5444c287314ac751d2e3f4",
       "version_major": 2,
       "version_minor": 0
      },
      "text/plain": [
       "Output()"
      ]
     },
     "metadata": {},
     "output_type": "display_data"
    },
    {
     "data": {
      "text/html": [
       "<pre style=\"white-space:pre;overflow-x:auto;line-height:normal;font-family:Menlo,'DejaVu Sans Mono',consolas,'Courier New',monospace\"></pre>\n"
      ],
      "text/plain": []
     },
     "metadata": {},
     "output_type": "display_data"
    },
    {
     "data": {
      "text/html": [
       "<pre style=\"white-space:pre;overflow-x:auto;line-height:normal;font-family:Menlo,'DejaVu Sans Mono',consolas,'Courier New',monospace\"><span style=\"color: #008000; text-decoration-color: #008000\">✓</span> Created objects.\n",
       "<span style=\"color: #808080; text-decoration-color: #808080\">├── </span>🔨 Created mount PythonPackage:modal_tokens\n",
       "<span style=\"color: #808080; text-decoration-color: #808080\">├── </span>🔨 Created mount /content/drive/MyDrive/Multi-Agent-System/llama.py\n",
       "<span style=\"color: #808080; text-decoration-color: #808080\">├── </span>🔨 Created mount PythonPackage:hello\n",
       "<span style=\"color: #808080; text-decoration-color: #808080\">└── </span>🔨 Created function generate.\n",
       "</pre>\n"
      ],
      "text/plain": [
       "\u001b[32m✓\u001b[0m Created objects.\n",
       "\u001b[38;5;244m├── \u001b[0m🔨 Created mount PythonPackage:modal_tokens\n",
       "\u001b[38;5;244m├── \u001b[0m🔨 Created mount /content/drive/MyDrive/Multi-Agent-System/llama.py\n",
       "\u001b[38;5;244m├── \u001b[0m🔨 Created mount PythonPackage:hello\n",
       "\u001b[38;5;244m└── \u001b[0m🔨 Created function generate.\n"
      ]
     },
     "metadata": {},
     "output_type": "display_data"
    },
    {
     "data": {
      "application/vnd.jupyter.widget-view+json": {
       "model_id": "71ad2905b6d745bd882be47c402d5e1f",
       "version_major": 2,
       "version_minor": 0
      },
      "text/plain": [
       "Output()"
      ]
     },
     "metadata": {},
     "output_type": "display_data"
    },
    {
     "data": {
      "text/html": [
       "<pre style=\"white-space:pre;overflow-x:auto;line-height:normal;font-family:Menlo,'DejaVu Sans Mono',consolas,'Courier New',monospace\">&lt;s&gt; Life is a mystery, everyone must stand alone, I hear the sound of the wind\n",
       "</pre>\n"
      ],
      "text/plain": [
       "<s> Life is a mystery, everyone must stand alone, I hear the sound of the wind\n"
      ]
     },
     "metadata": {},
     "output_type": "display_data"
    },
    {
     "data": {
      "text/html": [
       "<pre style=\"white-space:pre;overflow-x:auto;line-height:normal;font-family:Menlo,'DejaVu Sans Mono',consolas,'Courier New',monospace\"></pre>\n"
      ],
      "text/plain": []
     },
     "metadata": {},
     "output_type": "display_data"
    },
    {
     "data": {
      "text/html": [
       "<pre style=\"white-space:pre;overflow-x:auto;line-height:normal;font-family:Menlo,'DejaVu Sans Mono',consolas,'Courier New',monospace\"><span style=\"color: #808000; text-decoration-color: #808000\">Stopping app - local entrypoint completed.\n",
       "</span></pre>\n"
      ],
      "text/plain": [
       "\u001b[33mStopping app - local entrypoint completed.\n",
       "\u001b[0m"
      ]
     },
     "metadata": {},
     "output_type": "display_data"
    },
    {
     "data": {
      "text/html": [
       "<pre style=\"white-space:pre;overflow-x:auto;line-height:normal;font-family:Menlo,'DejaVu Sans Mono',consolas,'Courier New',monospace\"><span style=\"color: #008000; text-decoration-color: #008000\">✓</span> App completed. <span style=\"color: #b2b2b2; text-decoration-color: #b2b2b2\">View run at </span><span style=\"color: #b2b2b2; text-decoration-color: #b2b2b2; text-decoration: underline\">https://modal.com/apps/pauldavid551/main/ap-bHZtDu482Elp7MMffNOMvz</span>\n",
       "</pre>\n"
      ],
      "text/plain": [
       "\u001b[32m✓\u001b[0m App completed. \u001b[38;5;249mView run at \u001b[0m\u001b[4;38;5;249mhttps://modal.com/apps/pauldavid551/main/ap-bHZtDu482Elp7MMffNOMvz\u001b[0m\n"
      ]
     },
     "metadata": {},
     "output_type": "display_data"
    }
   ],
   "source": [
    "# Run remotely with output\n",
    "from llama import app, generate\n",
    "\n",
    "with modal.enable_output():  # Show Modal logs\n",
    "    with app.run():\n",
    "        result = generate.remote(\"Life is a mystery, everyone must stand alone, I hear\")\n",
    "        print(result)"
   ]
  },
  {
   "cell_type": "code",
   "execution_count": null,
   "id": "9a9a6844-29ec-4264-8e72-362d976b3968",
   "metadata": {
    "id": "9a9a6844-29ec-4264-8e72-362d976b3968"
   },
   "outputs": [],
   "source": [
    "import modal\n",
    "from pricer_ephemeral import app, price"
   ]
  },
  {
   "cell_type": "code",
   "execution_count": null,
   "id": "EKH7R_NbINAo",
   "metadata": {
    "colab": {
     "base_uri": "https://localhost:8080/"
    },
    "id": "EKH7R_NbINAo",
    "outputId": "5306d787-1d9f-4ebc-8be4-14c331e3f240"
   },
   "outputs": [
    {
     "name": "stdout",
     "output_type": "stream",
     "text": [
      "Contents of prices.py:\n",
      "import modal\r\n",
      "from modal import App, Image\r\n",
      "\r\n",
      "# Setup\r\n",
      "\r\n",
      "app = modal.App(\"pricer\")\r\n",
      "image = Image.debian_slim().pip_install(\"torch\", \"transformers\", \"bitsandbytes\", \"accelerate\", \"peft\")\r\n",
      "secrets = [modal.Secret.from_name(\"huggingface-secret\")]\r\n",
      "\r\n",
      "# Constants\r\n",
      "\r\n",
      "GPU = \"T4\"\r\n",
      "BASE_MODEL = \"TinyLlama/TinyLlama-1.1B-Chat-v1.0\"\r\n",
      "PROJECT_NAME = \"pricer\"\r\n",
      "HF_USER = \"ed-donner\" # your HF name here! Or use mine if you just want to reproduce my results.\r\n",
      "RUN_NAME = \"2024-09-13_13.04.39\"\r\n",
      "PROJECT_RUN_NAME = f\"{PROJECT_NAME}-{RUN_NAME}\"\r\n",
      "REVISION = \"e8d637df551603dc86cd7a1598a8f44af4d7ae36\"\r\n",
      "FINETUNED_MODEL = f\"{HF_USER}/{PROJECT_RUN_NAME}\"\r\n",
      "\r\n",
      "\r\n",
      "@app.function(image=image, secrets=secrets, gpu=GPU, timeout=1800)\r\n",
      "def price(description: str) -> float:\r\n",
      "    import os\r\n",
      "    import re\r\n",
      "    import torch\r\n",
      "    from transformers import AutoTokenizer, AutoModelForCausalLM, BitsAndBytesConfig, set_seed\r\n",
      "    from peft import PeftModel\r\n",
      "\r\n",
      "    QUESTION = \"How much does this cost to the nearest dollar?\"\r\n",
      "    PREFIX = \"Price is $\"\r\n",
      "\r\n",
      "    prompt = f\"{QUESTION}\\n{description}\\n{PREFIX}\"\r\n",
      "    \r\n",
      "    # Quant Config\r\n",
      "    quant_config = BitsAndBytesConfig(\r\n",
      "        load_in_4bit=True,\r\n",
      "        bnb_4bit_use_double_quant=True,\r\n",
      "        bnb_4bit_compute_dtype=torch.bfloat16,\r\n",
      "        bnb_4bit_quant_type=\"nf4\"\r\n",
      "    )\r\n",
      "\r\n",
      "    # Load model and tokenizer\r\n",
      "    \r\n",
      "    tokenizer = AutoTokenizer.from_pretrained(BASE_MODEL)\r\n",
      "    tokenizer.pad_token = tokenizer.eos_token\r\n",
      "    tokenizer.padding_side = \"right\"\r\n",
      "    \r\n",
      "    base_model = AutoModelForCausalLM.from_pretrained(\r\n",
      "        BASE_MODEL, \r\n",
      "        quantization_config=quant_config,\r\n",
      "        device_map=\"auto\"\r\n",
      "    )\r\n",
      "\r\n",
      "\r\n",
      "    set_seed(42)\r\n",
      "    inputs = tokenizer.encode(prompt, return_tensors=\"pt\").to(\"cuda\")\r\n",
      "    attention_mask = torch.ones(inputs.shape, device=\"cuda\")\r\n",
      "    outputs = base_model.generate(inputs, attention_mask=attention_mask, max_new_tokens=5, num_return_sequences=1)\r\n",
      "    result = tokenizer.decode(outputs[0])\r\n",
      "\r\n",
      "    contents = result.split(\"Price is $\")[1]\r\n",
      "    contents = contents.replace(',','')\r\n",
      "    match = re.search(r\"[-+]?\\d*\\.\\d+|\\d+\", contents)\r\n",
      "    return float(match.group()) if match else 0\r\n"
     ]
    },
    {
     "name": "stderr",
     "output_type": "stream",
     "text": [
      "/content/drive/MyDrive/Multi-Agent-System/pricer_ephemeral.py:22: DeprecationError: 2025-02-03: Modal will stop implicitly adding local Python modules to the Image (\"automounting\") in a future update. The following modules need to be explicitly added for future compatibility:\n",
      "* hello\n",
      "* llama\n",
      "* modal_tokens\n",
      "\n",
      "e.g.:\n",
      "image_with_source = my_image.add_local_python_source(\"hello\", \"llama\", \"modal_tokens\")\n",
      "\n",
      "For more information, see https://modal.com/docs/guide/modal-1-0-migration\n",
      "  @app.function(image=image, secrets=secrets, gpu=GPU, timeout=1800)\n"
     ]
    }
   ],
   "source": [
    "# Set Modal tokens locally\n",
    "with open(\"modal_tokens.py\", \"w\") as f:\n",
    "    f.write(\"\"\"\n",
    "def load_tokens():\n",
    "    import os\n",
    "    os.environ[\"MODAL_TOKEN_ID\"] = \"ak-jQHflODSwGNvab97cT9lRY\"\n",
    "    os.environ[\"MODAL_TOKEN_SECRET\"] = \"as-DKP5ZJY5GM3AG1LdZm6x32\"\n",
    "\"\"\")\n",
    "\n",
    "# Define the app in llama.py with huggingface-secret and a new app name\n",
    "with open(\"price_ephemeral.py\", \"w\") as f:\n",
    "    f.write(\"\"\"import modal\n",
    "from modal import App, Image\n",
    "\n",
    "# Setup\n",
    "\n",
    "app = modal.App(\"pricer\")\n",
    "image = Image.debian_slim().pip_install(\"torch\", \"transformers\", \"bitsandbytes\", \"accelerate\", \"peft\")\n",
    "secrets = [modal.Secret.from_name(\"huggingface-secret\")]\n",
    "\n",
    "# Constants\n",
    "\n",
    "GPU = \"T4\"\n",
    "BASE_MODEL = \"TinyLlama/TinyLlama-1.1B-Chat-v1.0\"\n",
    "PROJECT_NAME = \"pricer\"\n",
    "HF_USER = \"ed-donner\" # your HF name here! Or use mine if you just want to reproduce my results.\n",
    "RUN_NAME = \"2024-09-13_13.04.39\"\n",
    "PROJECT_RUN_NAME = f\"{PROJECT_NAME}-{RUN_NAME}\"\n",
    "REVISION = \"e8d637df551603dc86cd7a1598a8f44af4d7ae36\"\n",
    "FINETUNED_MODEL = f\"{HF_USER}/{PROJECT_RUN_NAME}\"\n",
    "\n",
    "\n",
    "@app.function(image=image, secrets=secrets, gpu=GPU, timeout=1800)\n",
    "def price(description: str) -> float:\n",
    "    import os\n",
    "    import re\n",
    "    import torch\n",
    "    from transformers import AutoTokenizer, AutoModelForCausalLM, BitsAndBytesConfig, set_seed\n",
    "    from peft import PeftModel\n",
    "\n",
    "    QUESTION = \"How much does this cost to the nearest dollar?\"\n",
    "    PREFIX = \"Price is $\"\n",
    "\n",
    "    prompt = f\"{QUESTION}\\n{description}\\n{PREFIX}\"\n",
    "\n",
    "    # Quant Config\n",
    "    quant_config = BitsAndBytesConfig(\n",
    "        load_in_4bit=True,\n",
    "        bnb_4bit_use_double_quant=True,\n",
    "        bnb_4bit_compute_dtype=torch.bfloat16,\n",
    "        bnb_4bit_quant_type=\"nf4\"\n",
    "    )\n",
    "\n",
    "    # Load model and tokenizer\n",
    "\n",
    "    tokenizer = AutoTokenizer.from_pretrained(BASE_MODEL)\n",
    "    tokenizer.pad_token = tokenizer.eos_token\n",
    "    tokenizer.padding_side = \"right\"\n",
    "\n",
    "    base_model = AutoModelForCausalLM.from_pretrained(\n",
    "        BASE_MODEL,\n",
    "        quantization_config=quant_config,\n",
    "        device_map=\"auto\"\n",
    "    )\n",
    "\n",
    "\n",
    "    set_seed(42)\n",
    "    inputs = tokenizer.encode(prompt, return_tensors=\"pt\").to(\"cuda\")\n",
    "    attention_mask = torch.ones(inputs.shape, device=\"cuda\")\n",
    "    outputs = base_model.generate(inputs, attention_mask=attention_mask, max_new_tokens=5, num_return_sequences=1)\n",
    "    result = tokenizer.decode(outputs[0])\n",
    "\n",
    "    contents = result.split(\"Price is $\")[1]\n",
    "    contents = contents.replace(',','')\n",
    "    match = re.search(r\"[-+]?\\d*\\.\\d+|\\d+\", contents)\n",
    "    return float(match.group()) if match else 0\n",
    "\n",
    "\"\"\")\n",
    "\n",
    "# Load tokens and import app\n",
    "from modal_tokens import load_tokens\n",
    "load_tokens()\n",
    "\n",
    "# Clear any old module cache\n",
    "import sys\n",
    "if \"pricer_ephemeral\" in sys.modules:\n",
    "    del sys.modules[\"pricer_ephemeral\"]\n",
    "\n",
    "from pricer_ephemeral import app, price\n",
    "\n",
    "# Verify the file contents\n",
    "print(\"Contents of prices.py:\")\n",
    "!cat pricer_ephemeral.py"
   ]
  },
  {
   "cell_type": "code",
   "execution_count": null,
   "id": "50e6cf99-8959-4ae3-ba02-e325cb7fff94",
   "metadata": {
    "colab": {
     "base_uri": "https://localhost:8080/",
     "height": 292,
     "referenced_widgets": [
      "b9b464bf508842dfb22b072f67daa887",
      "b596fd3d579b4731a03d7f2bb5625d66",
      "437340e721c7410a95d1d1894ceeab32",
      "954950e627294255bbb99c14cf947952",
      "7c0a3c492ea245a4a2c6b20ebb74bf99",
      "7f9fb5bbd094494fbe78348168dd3b64"
     ]
    },
    "id": "50e6cf99-8959-4ae3-ba02-e325cb7fff94",
    "outputId": "e6be8a05-fc1d-4513-8b22-5273688e67cb"
   },
   "outputs": [
    {
     "data": {
      "application/vnd.jupyter.widget-view+json": {
       "model_id": "b9b464bf508842dfb22b072f67daa887",
       "version_major": 2,
       "version_minor": 0
      },
      "text/plain": [
       "Output()"
      ]
     },
     "metadata": {},
     "output_type": "display_data"
    },
    {
     "data": {
      "text/html": [
       "<pre style=\"white-space:pre;overflow-x:auto;line-height:normal;font-family:Menlo,'DejaVu Sans Mono',consolas,'Courier New',monospace\"><span style=\"color: #008000; text-decoration-color: #008000\">✓</span> Initialized. <span style=\"color: #b2b2b2; text-decoration-color: #b2b2b2\">View run at </span><span style=\"color: #b2b2b2; text-decoration-color: #b2b2b2; text-decoration: underline\">https://modal.com/apps/pauldavid551/main/ap-Yi62xERjIbWHUpWLdJM8SS</span>\n",
       "</pre>\n"
      ],
      "text/plain": [
       "\u001b[32m✓\u001b[0m Initialized. \u001b[38;5;249mView run at \u001b[0m\u001b[4;38;5;249mhttps://modal.com/apps/pauldavid551/main/ap-Yi62xERjIbWHUpWLdJM8SS\u001b[0m\n"
      ]
     },
     "metadata": {},
     "output_type": "display_data"
    },
    {
     "data": {
      "text/html": [
       "<pre style=\"white-space:pre;overflow-x:auto;line-height:normal;font-family:Menlo,'DejaVu Sans Mono',consolas,'Courier New',monospace\"></pre>\n"
      ],
      "text/plain": []
     },
     "metadata": {},
     "output_type": "display_data"
    },
    {
     "data": {
      "application/vnd.jupyter.widget-view+json": {
       "model_id": "437340e721c7410a95d1d1894ceeab32",
       "version_major": 2,
       "version_minor": 0
      },
      "text/plain": [
       "Output()"
      ]
     },
     "metadata": {},
     "output_type": "display_data"
    },
    {
     "data": {
      "text/html": [
       "<pre style=\"white-space:pre;overflow-x:auto;line-height:normal;font-family:Menlo,'DejaVu Sans Mono',consolas,'Courier New',monospace\"></pre>\n"
      ],
      "text/plain": []
     },
     "metadata": {},
     "output_type": "display_data"
    },
    {
     "data": {
      "text/html": [
       "<pre style=\"white-space:pre;overflow-x:auto;line-height:normal;font-family:Menlo,'DejaVu Sans Mono',consolas,'Courier New',monospace\"><span style=\"color: #008000; text-decoration-color: #008000\">✓</span> Created objects.\n",
       "<span style=\"color: #808080; text-decoration-color: #808080\">├── </span>🔨 Created mount PythonPackage:modal_tokens\n",
       "<span style=\"color: #808080; text-decoration-color: #808080\">├── </span>🔨 Created mount /content/drive/MyDrive/Multi-Agent-System/pricer_ephemeral.py\n",
       "<span style=\"color: #808080; text-decoration-color: #808080\">├── </span>🔨 Created mount PythonPackage:llama\n",
       "<span style=\"color: #808080; text-decoration-color: #808080\">├── </span>🔨 Created mount PythonPackage:hello\n",
       "<span style=\"color: #808080; text-decoration-color: #808080\">└── </span>🔨 Created function price.\n",
       "</pre>\n"
      ],
      "text/plain": [
       "\u001b[32m✓\u001b[0m Created objects.\n",
       "\u001b[38;5;244m├── \u001b[0m🔨 Created mount PythonPackage:modal_tokens\n",
       "\u001b[38;5;244m├── \u001b[0m🔨 Created mount /content/drive/MyDrive/Multi-Agent-System/pricer_ephemeral.py\n",
       "\u001b[38;5;244m├── \u001b[0m🔨 Created mount PythonPackage:llama\n",
       "\u001b[38;5;244m├── \u001b[0m🔨 Created mount PythonPackage:hello\n",
       "\u001b[38;5;244m└── \u001b[0m🔨 Created function price.\n"
      ]
     },
     "metadata": {},
     "output_type": "display_data"
    },
    {
     "data": {
      "application/vnd.jupyter.widget-view+json": {
       "model_id": "7c0a3c492ea245a4a2c6b20ebb74bf99",
       "version_major": 2,
       "version_minor": 0
      },
      "text/plain": [
       "Output()"
      ]
     },
     "metadata": {},
     "output_type": "display_data"
    },
    {
     "data": {
      "text/html": [
       "<pre style=\"white-space:pre;overflow-x:auto;line-height:normal;font-family:Menlo,'DejaVu Sans Mono',consolas,'Courier New',monospace\"></pre>\n"
      ],
      "text/plain": []
     },
     "metadata": {},
     "output_type": "display_data"
    },
    {
     "data": {
      "text/html": [
       "<pre style=\"white-space:pre;overflow-x:auto;line-height:normal;font-family:Menlo,'DejaVu Sans Mono',consolas,'Courier New',monospace\">Disconnecting from Modal - This will terminate your Modal app in a few seconds.\n",
       "\n",
       "</pre>\n"
      ],
      "text/plain": [
       "Disconnecting from Modal - This will terminate your Modal app in a few seconds.\n",
       "\n"
      ]
     },
     "metadata": {},
     "output_type": "display_data"
    },
    {
     "data": {
      "text/html": [
       "<pre style=\"white-space:pre;overflow-x:auto;line-height:normal;font-family:Menlo,'DejaVu Sans Mono',consolas,'Courier New',monospace\"><span style=\"color: #808000; text-decoration-color: #808000\">Stopping app - keyboard interrupt received. Use `modal run --detach` to prevent KeyboardInterrupts from killing apps.\n",
       "</span></pre>\n"
      ],
      "text/plain": [
       "\u001b[33mStopping app - keyboard interrupt received. Use `modal run --detach` to prevent KeyboardInterrupts from killing apps.\n",
       "\u001b[0m"
      ]
     },
     "metadata": {},
     "output_type": "display_data"
    },
    {
     "data": {
      "text/html": [
       "<pre style=\"white-space:pre;overflow-x:auto;line-height:normal;font-family:Menlo,'DejaVu Sans Mono',consolas,'Courier New',monospace\"><span style=\"color: #808000; text-decoration-color: #808000\">Runner terminated.\n",
       "</span></pre>\n"
      ],
      "text/plain": [
       "\u001b[33mRunner terminated.\n",
       "\u001b[0m"
      ]
     },
     "metadata": {},
     "output_type": "display_data"
    },
    {
     "data": {
      "text/html": [
       "<pre style=\"white-space:pre;overflow-x:auto;line-height:normal;font-family:Menlo,'DejaVu Sans Mono',consolas,'Courier New',monospace\"><span style=\"color: #008000; text-decoration-color: #008000\">✓</span> App aborted. <span style=\"color: #b2b2b2; text-decoration-color: #b2b2b2\">View run at </span><span style=\"color: #b2b2b2; text-decoration-color: #b2b2b2; text-decoration: underline\">https://modal.com/apps/pauldavid551/main/ap-Yi62xERjIbWHUpWLdJM8SS</span>\n",
       "</pre>\n"
      ],
      "text/plain": [
       "\u001b[32m✓\u001b[0m App aborted. \u001b[38;5;249mView run at \u001b[0m\u001b[4;38;5;249mhttps://modal.com/apps/pauldavid551/main/ap-Yi62xERjIbWHUpWLdJM8SS\u001b[0m\n"
      ]
     },
     "metadata": {},
     "output_type": "display_data"
    }
   ],
   "source": [
    "with modal.enable_output():\n",
    "    with app.run():\n",
    "        result=price.remote(\"Quadcast HyperX condenser mic, connects via usb-c to your computer for crystal clear audio\")\n",
    "        print(result)"
   ]
  },
  {
   "cell_type": "markdown",
   "id": "04d8747f-8452-4077-8af6-27e03888508a",
   "metadata": {
    "id": "04d8747f-8452-4077-8af6-27e03888508a"
   },
   "source": [
    "## Transitioning From Ephemeral Apps to Deployed Apps\n",
    "\n",
    "From a command line, `modal deploy xxx` will deploy your code as a Deployed App\n",
    "\n",
    "This is how you could package your AI service behind an API to be used in a Production System.\n",
    "\n",
    "You can also build REST endpoints easily, although we won't cover that as we'll be calling direct from Python.\n",
    "\n",
    "## Important note for Windows people:\n",
    "\n",
    "On the next line, I call `modal deploy` from within Jupyter lab; I've heard that on some versions of Windows this gives a strange unicode error because modal prints emojis to the output which can't be displayed. If that happens to you, simply use an Anaconda Prompt window or a Powershell instead, with your environment activated, and type `modal deploy pricer_service` there. Follow the same approach the next time we do `!modal deploy` too.\n",
    "\n",
    "As an alternative, a few students have mentioned you can run this code within Jupyter Lab if you want to run it from here:\n",
    "```\n",
    "# Check the default encoding\n",
    "print(locale.getpreferredencoding())  # Should print 'UTF-8'\n",
    "\n",
    "# Ensure UTF-8 encoding\n",
    "os.environ['PYTHONIOENCODING'] = 'utf-8'\n",
    "```"
   ]
  },
  {
   "cell_type": "code",
   "execution_count": null,
   "id": "7f90d857-2f12-4521-bb90-28efd917f7d1",
   "metadata": {
    "colab": {
     "base_uri": "https://localhost:8080/"
    },
    "id": "7f90d857-2f12-4521-bb90-28efd917f7d1",
    "outputId": "0747c591-cb7f-403a-a247-a6d00c95b343"
   },
   "outputs": [
    {
     "name": "stdout",
     "output_type": "stream",
     "text": [
      "\u001b[33m╭─\u001b[0m\u001b[33m Modal Deprecation Warning (2025-02-06) \u001b[0m\u001b[33m────────────────────────────────────────────────────────\u001b[0m\u001b[33m─╮\u001b[0m\n",
      "\u001b[33m│\u001b[0m Using Python module paths will require using the -m flag in a future version of Modal.           \u001b[33m│\u001b[0m\n",
      "\u001b[33m│\u001b[0m Use `modal deploy -m pricer_service` instead.                                                    \u001b[33m│\u001b[0m\n",
      "\u001b[33m╰──────────────────────────────────────────────────────────────────────────────────────────────────╯\u001b[0m\n",
      "\u001b[2K\u001b[34m⠸\u001b[0m Creating objects...\n",
      "\u001b[2K\u001b[1A\u001b[2K\u001b[34m⠦\u001b[0m Creating objects...\n",
      "\u001b[2K\u001b[1A\u001b[2K\u001b[34m⠏\u001b[0m Creating objects...\n",
      "\u001b[37m└── \u001b[0m\u001b[34m⠦\u001b[0m Creating mount /content/drive/MyDrive/Multi-Agent-System/pricer_service.py: Finalizing index \n",
      "\u001b[2K\u001b[1A\u001b[2K\u001b[1A\u001b[2K\u001b[34m⠋\u001b[0m Creating objects...\n",
      "\u001b[37m├── \u001b[0m🔨 Created mount /content/drive/MyDrive/Multi-Agent-System/pricer_service.py\n",
      "\u001b[37m└── \u001b[0m🔨 Created function price.\n",
      "\u001b[1A\u001b[2K\u001b[1A\u001b[2K\u001b[1A\u001b[2K\u001b[32m✓\u001b[0m Created objects.\n",
      "\u001b[37m├── \u001b[0m🔨 Created mount /content/drive/MyDrive/Multi-Agent-System/pricer_service.py\n",
      "\u001b[37m└── \u001b[0m🔨 Created function price.\n",
      "\u001b[32m✓\u001b[0m App deployed in 1.026s! 🎉\n",
      "\n",
      "View Deployment: \u001b[35mhttps://modal.com/apps/pauldavid551/main/deployed/pricer-service\u001b[0m\n"
     ]
    }
   ],
   "source": [
    "!modal deploy pricer_service"
   ]
  },
  {
   "cell_type": "code",
   "execution_count": null,
   "id": "1dec70ff-1986-4405-8624-9bbbe0ce1f4a",
   "metadata": {
    "colab": {
     "base_uri": "https://localhost:8080/"
    },
    "id": "1dec70ff-1986-4405-8624-9bbbe0ce1f4a",
    "outputId": "7ff4ba45-5074-43ac-92f9-7e6a7b96cd87"
   },
   "outputs": [
    {
     "name": "stderr",
     "output_type": "stream",
     "text": [
      "/usr/lib/python3.11/asyncio/events.py:84: DeprecationError: 2025-01-27: `modal.Function.lookup` is deprecated and will be removed in a future release. It can be replaced with `modal.Function.from_name`.\n",
      "\n",
      "See https://modal.com/docs/guide/modal-1-0-migration for more information.\n",
      "  self._context.run(self._callback, *self._args)\n"
     ]
    }
   ],
   "source": [
    "pricer = modal.Function.lookup(\"pricer-service\", \"price\")"
   ]
  },
  {
   "cell_type": "code",
   "execution_count": null,
   "id": "17776139-0d9e-4ad0-bcd0-82d3a92ca61f",
   "metadata": {
    "colab": {
     "base_uri": "https://localhost:8080/"
    },
    "id": "17776139-0d9e-4ad0-bcd0-82d3a92ca61f",
    "outputId": "c6d8a3e1-1131-4c40-f775-a1666ae07739"
   },
   "outputs": [
    {
     "data": {
      "text/plain": [
       "199.9"
      ]
     },
     "execution_count": 24,
     "metadata": {},
     "output_type": "execute_result"
    }
   ],
   "source": [
    "pricer.remote(\"Quadcast HyperX condenser mic, connects via usb-c to your computer for crystal clear audio\")"
   ]
  },
  {
   "cell_type": "code",
   "execution_count": null,
   "id": "f56d1e55-2a03-4ce2-bb47-2ab6b9175a02",
   "metadata": {
    "colab": {
     "base_uri": "https://localhost:8080/"
    },
    "id": "f56d1e55-2a03-4ce2-bb47-2ab6b9175a02",
    "outputId": "c2cfa73b-ad36-4ed9-fb79-3136ae29c12a"
   },
   "outputs": [
    {
     "name": "stdout",
     "output_type": "stream",
     "text": [
      "\u001b[33m╭─\u001b[0m\u001b[33m Modal Deprecation Warning (2025-02-06) \u001b[0m\u001b[33m────────────────────────────────────────────────────────\u001b[0m\u001b[33m─╮\u001b[0m\n",
      "\u001b[33m│\u001b[0m Using Python module paths will require using the -m flag in a future version of Modal.           \u001b[33m│\u001b[0m\n",
      "\u001b[33m│\u001b[0m Use `modal deploy -m pricer_service2` instead.                                                   \u001b[33m│\u001b[0m\n",
      "\u001b[33m╰──────────────────────────────────────────────────────────────────────────────────────────────────╯\u001b[0m\n",
      "\u001b[33m╭─\u001b[0m\u001b[33m Modal Deprecation Warning (2025-01-15) \u001b[0m\u001b[33m────────────────────────────────────────────────────────\u001b[0m\u001b[33m─╮\u001b[0m\n",
      "\u001b[33m│\u001b[0m The `@modal.build` decorator is deprecated and will be removed in a future release.              \u001b[33m│\u001b[0m\n",
      "\u001b[33m│\u001b[0m                                                                                                  \u001b[33m│\u001b[0m\n",
      "\u001b[33m│\u001b[0m We now recommend storing large assets (such as model weights) using a `modal.Volume` instead of  \u001b[33m│\u001b[0m\n",
      "\u001b[33m│\u001b[0m writing them directly into the `modal.Image` filesystem. For other use cases we recommend using  \u001b[33m│\u001b[0m\n",
      "\u001b[33m│\u001b[0m `Image.run_function` instead.                                                                    \u001b[33m│\u001b[0m\n",
      "\u001b[33m│\u001b[0m                                                                                                  \u001b[33m│\u001b[0m\n",
      "\u001b[33m│\u001b[0m See https://modal.com/docs/guide/modal-1-0-migration for more information.                       \u001b[33m│\u001b[0m\n",
      "\u001b[33m│\u001b[0m                                                                                                  \u001b[33m│\u001b[0m\n",
      "\u001b[33m│\u001b[0m Source: /content/drive/MyDrive/Multi-Agent-System/pricer_service2.py:30                          \u001b[33m│\u001b[0m\n",
      "\u001b[33m│\u001b[0m   @modal.build()                                                                                 \u001b[33m│\u001b[0m\n",
      "\u001b[33m╰──────────────────────────────────────────────────────────────────────────────────────────────────╯\u001b[0m\n",
      "\u001b[2K\u001b[34m⠸\u001b[0m Creating objects...\n",
      "\u001b[37m└── \u001b[0m\u001b[34m⠋\u001b[0m Creating mount /content/drive/MyDrive/Multi-Agent-System/pricer_service2.py: Uploaded 0/1 \n",
      "\u001b[2K\u001b[1A\u001b[2K\u001b[1A\u001b[2K\u001b[34m⠦\u001b[0m Creating objects...\n",
      "\u001b[37m└── \u001b[0m\u001b[34m⠸\u001b[0m Creating mount /content/drive/MyDrive/Multi-Agent-System/pricer_service2.py: Uploaded 0/1 \n",
      "\u001b[2K\u001b[1A\u001b[2K\u001b[1A\u001b[2K\u001b[34m⠏\u001b[0m Creating objects...\n",
      "\u001b[37m├── \u001b[0m🔨 Created mount /content/drive/MyDrive/Multi-Agent-System/pricer_service2.py\n",
      "\u001b[2K\u001b[1A\u001b[2K\u001b[1A\u001b[2K\u001b[34m⠹\u001b[0m Creating objects...\n",
      "\u001b[37m├── \u001b[0m🔨 Created mount /content/drive/MyDrive/Multi-Agent-System/pricer_service2.py\n",
      "\u001b[2K\u001b[1A\u001b[2K\u001b[1A\u001b[2K\u001b[34m⠴\u001b[0m Creating objects...\n",
      "\u001b[37m├── \u001b[0m🔨 Created mount /content/drive/MyDrive/Multi-Agent-System/pricer_service2.py\n",
      "\u001b[2K\u001b[1A\u001b[2K\u001b[1A\u001b[2K\u001b[34m⠏\u001b[0m Creating objects...\n",
      "\u001b[37m├── \u001b[0m🔨 Created mount /content/drive/MyDrive/Multi-Agent-System/pricer_service2.py\n",
      "\u001b[2K\u001b[1A\u001b[2K\u001b[1A\u001b[2K\u001b[34m⠹\u001b[0m Creating objects...\n",
      "\u001b[37m├── \u001b[0m🔨 Created mount /content/drive/MyDrive/Multi-Agent-System/pricer_service2.py\n",
      "\u001b[2K\u001b[1A\u001b[2K\u001b[1A\u001b[2K\u001b[34m⠴\u001b[0m Creating objects...\n",
      "\u001b[37m├── \u001b[0m🔨 Created mount /content/drive/MyDrive/Multi-Agent-System/pricer_service2.py\n",
      "\u001b[2K\u001b[1A\u001b[2K\u001b[1A\u001b[2K\u001b[34m⠇\u001b[0m Creating objects...\n",
      "\u001b[37m├── \u001b[0m🔨 Created mount /content/drive/MyDrive/Multi-Agent-System/pricer_service2.py\n",
      "\u001b[2K\u001b[1A\u001b[2K\u001b[1A\u001b[2K\u001b[34m⠙\u001b[0m Creating objects...\n",
      "\u001b[37m├── \u001b[0m🔨 Created mount /content/drive/MyDrive/Multi-Agent-System/pricer_service2.py\n",
      "\u001b[2K\u001b[1A\u001b[2K\u001b[1A\u001b[2K\u001b[33mBuilding image im-rUCJcpdwnpVz4Ehm4V9WEl\n",
      "\u001b[0m\u001b[34m⠼\u001b[0m\u001b[33m Creating objects...\u001b[0m\u001b[33m\n",
      "\u001b[0m\u001b[37m├── \u001b[0m\u001b[33m🔨 Created mount /content/drive/MyDrive/Multi-Agent-System/pricer_service2.py\u001b[0m\u001b[33m\n",
      "\u001b[2K\u001b[1A\u001b[2K\u001b[1A\u001b[2K\u001b[33m\n",
      "=> Step 0: running function 'Pricer.download_model_to_folder'\n",
      "\u001b[0m\u001b[34m⠼\u001b[0m\u001b[33m Creating objects...\u001b[0m\u001b[33m\n",
      "\u001b[0m\u001b[37m├── \u001b[0m\u001b[33m🔨 Created mount /content/drive/MyDrive/Multi-Agent-System/pricer_service2.py\u001b[0m\u001b[33m\n",
      "\u001b[2K\u001b[1A\u001b[2K\u001b[1A\u001b[2K\u001b[34m⠼\u001b[0m Creating objects...\n",
      "\u001b[37m├── \u001b[0m🔨 Created mount /content/drive/MyDrive/Multi-Agent-System/pricer_service2.py\n",
      "\u001b[2K\u001b[1A\u001b[2K\u001b[1A\u001b[2K\u001b[34m⠧\u001b[0m Creating objects...\n",
      "\u001b[37m├── \u001b[0m🔨 Created mount /content/drive/MyDrive/Multi-Agent-System/pricer_service2.py\n",
      "\u001b[2K\u001b[1A\u001b[2K\u001b[1A\u001b[2K\u001b[34m⠙\u001b[0m Creating objects...\n",
      "\u001b[37m├── \u001b[0m🔨 Created mount /content/drive/MyDrive/Multi-Agent-System/pricer_service2.py\n",
      "\u001b[2K\u001b[1A\u001b[2K\u001b[1A\u001b[2K\u001b[34m⠼\u001b[0m Creating objects...\n",
      "\u001b[37m├── \u001b[0m🔨 Created mount /content/drive/MyDrive/Multi-Agent-System/pricer_service2.py\n",
      "\u001b[2K\u001b[1A\u001b[2K\u001b[1A\u001b[2K\u001b[34m⠧\u001b[0m Creating objects...\n",
      "\u001b[37m├── \u001b[0m🔨 Created mount /content/drive/MyDrive/Multi-Agent-System/pricer_service2.py\n",
      "\u001b[2K\u001b[1A\u001b[2K\u001b[1A\u001b[2K\u001b[34m⠋\u001b[0m Creating objects...\n",
      "\u001b[37m├── \u001b[0m🔨 Created mount /content/drive/MyDrive/Multi-Agent-System/pricer_service2.py\n",
      "\u001b[2K\u001b[1A\u001b[2K\u001b[1A\u001b[2K\u001b[33m/root/pricer_service2.py:30: DeprecationError: 2025-01-15: The `@modal.build` decorator is deprecated and will be removed in a future release.\n",
      "\n",
      "We now recommend storing large assets (such as model weights) using a `modal.Volume` instead of writing them directly into the `modal.Image` filesystem. For other use cases we recommend using `Image.run_function` instead.\n",
      "\n",
      "See https://modal.com/docs/guide/modal-1-0-migration for more information.\n",
      "  @modal.build()\n",
      "\u001b[0m\u001b[34m⠸\u001b[0m\u001b[33m Creating objects...\u001b[0m\u001b[33m\n",
      "\u001b[0m\u001b[37m├── \u001b[0m\u001b[33m🔨 Created mount /content/drive/MyDrive/Multi-Agent-System/pricer_service2.py\u001b[0m\u001b[33m\n",
      "\u001b[2K\u001b[1A\u001b[2K\u001b[1A\u001b[2K\u001b[34m⠸\u001b[0m Creating objects...\n",
      "\u001b[37m├── \u001b[0m🔨 Created mount /content/drive/MyDrive/Multi-Agent-System/pricer_service2.py\n",
      "\u001b[2K\u001b[1A\u001b[2K\u001b[1A\u001b[2K\u001b[34m⠦\u001b[0m Creating objects...\n",
      "\u001b[37m├── \u001b[0m🔨 Created mount /content/drive/MyDrive/Multi-Agent-System/pricer_service2.py\n",
      "\u001b[2K\u001b[1A\u001b[2K\u001b[1A\u001b[2K\u001b[34m⠏\u001b[0m Creating objects...\n",
      "\u001b[37m├── \u001b[0m🔨 Created mount /content/drive/MyDrive/Multi-Agent-System/pricer_service2.py\n",
      "\u001b[2K\u001b[1A\u001b[2K\u001b[1A\u001b[2K\u001b[33m\n",
      "\u001b[0m\u001b[34m⠙\u001b[0m\u001b[33m Creating objects...\u001b[0m\u001b[33m\n",
      "\u001b[0m\u001b[37m├── \u001b[0m\u001b[33m🔨 Created mount /content/drive/MyDrive/Multi-Agent-System/pricer_service2.py\u001b[0m\u001b[33m\n",
      "\u001b[2K\u001b[1A\u001b[2K\u001b[1A\u001b[2K\u001b[34m⠸\u001b[0m Creating objects...\n",
      "\u001b[37m├── \u001b[0m🔨 Created mount /content/drive/MyDrive/Multi-Agent-System/pricer_service2.py\n",
      "\u001b[2K\u001b[1A\u001b[2K\u001b[1A\u001b[2K\u001b[33m\u001b[1AFetching 10 files:   0%|          | 0/10 [00:00<?, ?it/s]\n",
      "\u001b[0m\u001b[34m⠸\u001b[0m\u001b[33m Creating objects...\u001b[0m\u001b[33m\n",
      "\u001b[0m\u001b[37m├── \u001b[0m\u001b[33m🔨 Created mount /content/drive/MyDrive/Multi-Agent-System/pricer_service2.py\u001b[0m\u001b[33m\n",
      "\u001b[2K\u001b[1A\u001b[2K\u001b[1A\u001b[2K\u001b[34m⠦\u001b[0m Creating objects...\n",
      "\u001b[37m├── \u001b[0m🔨 Created mount /content/drive/MyDrive/Multi-Agent-System/pricer_service2.py\n",
      "\u001b[2K\u001b[1A\u001b[2K\u001b[1A\u001b[2K\u001b[34m⠏\u001b[0m Creating objects...\n",
      "\u001b[37m├── \u001b[0m🔨 Created mount /content/drive/MyDrive/Multi-Agent-System/pricer_service2.py\n",
      "\u001b[2K\u001b[1A\u001b[2K\u001b[1A\u001b[2K\u001b[34m⠹\u001b[0m Creating objects...\n",
      "\u001b[37m├── \u001b[0m🔨 Created mount /content/drive/MyDrive/Multi-Agent-System/pricer_service2.py\n",
      "\u001b[2K\u001b[1A\u001b[2K\u001b[1A\u001b[2K\u001b[34m⠴\u001b[0m Creating objects...\n",
      "\u001b[37m├── \u001b[0m🔨 Created mount /content/drive/MyDrive/Multi-Agent-System/pricer_service2.py\n",
      "\u001b[2K\u001b[1A\u001b[2K\u001b[1A\u001b[2K\u001b[34m⠇\u001b[0m Creating objects...\n",
      "\u001b[37m├── \u001b[0m🔨 Created mount /content/drive/MyDrive/Multi-Agent-System/pricer_service2.py\n",
      "\u001b[2K\u001b[1A\u001b[2K\u001b[1A\u001b[2K\u001b[34m⠙\u001b[0m Creating objects...\n",
      "\u001b[37m├── \u001b[0m🔨 Created mount /content/drive/MyDrive/Multi-Agent-System/pricer_service2.py\n",
      "\u001b[2K\u001b[1A\u001b[2K\u001b[1A\u001b[2K\u001b[34m⠴\u001b[0m Creating objects...\n",
      "\u001b[37m├── \u001b[0m🔨 Created mount /content/drive/MyDrive/Multi-Agent-System/pricer_service2.py\n",
      "\u001b[2K\u001b[1A\u001b[2K\u001b[1A\u001b[2K\u001b[34m⠇\u001b[0m Creating objects...\n",
      "\u001b[37m├── \u001b[0m🔨 Created mount /content/drive/MyDrive/Multi-Agent-System/pricer_service2.py\n",
      "\u001b[2K\u001b[1A\u001b[2K\u001b[1A\u001b[2K\u001b[34m⠙\u001b[0m Creating objects...\n",
      "\u001b[37m├── \u001b[0m🔨 Created mount /content/drive/MyDrive/Multi-Agent-System/pricer_service2.py\n",
      "\u001b[2K\u001b[1A\u001b[2K\u001b[1A\u001b[2K\u001b[34m⠼\u001b[0m Creating objects...\n",
      "\u001b[37m├── \u001b[0m🔨 Created mount /content/drive/MyDrive/Multi-Agent-System/pricer_service2.py\n",
      "\u001b[2K\u001b[1A\u001b[2K\u001b[1A\u001b[2K\u001b[34m⠧\u001b[0m Creating objects...\n",
      "\u001b[37m├── \u001b[0m🔨 Created mount /content/drive/MyDrive/Multi-Agent-System/pricer_service2.py\n",
      "\u001b[2K\u001b[1A\u001b[2K\u001b[1A\u001b[2K\u001b[34m⠋\u001b[0m Creating objects...\n",
      "\u001b[37m├── \u001b[0m🔨 Created mount /content/drive/MyDrive/Multi-Agent-System/pricer_service2.py\n",
      "\u001b[2K\u001b[1A\u001b[2K\u001b[1A\u001b[2K\u001b[34m⠸\u001b[0m Creating objects...\n",
      "\u001b[37m├── \u001b[0m🔨 Created mount /content/drive/MyDrive/Multi-Agent-System/pricer_service2.py\n",
      "\u001b[2K\u001b[1A\u001b[2K\u001b[1A\u001b[2K\u001b[34m⠧\u001b[0m Creating objects...\n",
      "\u001b[37m├── \u001b[0m🔨 Created mount /content/drive/MyDrive/Multi-Agent-System/pricer_service2.py\n",
      "\u001b[2K\u001b[1A\u001b[2K\u001b[1A\u001b[2K\u001b[34m⠋\u001b[0m Creating objects...\n",
      "\u001b[37m├── \u001b[0m🔨 Created mount /content/drive/MyDrive/Multi-Agent-System/pricer_service2.py\n",
      "\u001b[2K\u001b[1A\u001b[2K\u001b[1A\u001b[2K\u001b[34m⠸\u001b[0m Creating objects...\n",
      "\u001b[37m├── \u001b[0m🔨 Created mount /content/drive/MyDrive/Multi-Agent-System/pricer_service2.py\n",
      "\u001b[2K\u001b[1A\u001b[2K\u001b[1A\u001b[2K\u001b[34m⠦\u001b[0m Creating objects...\n",
      "\u001b[37m├── \u001b[0m🔨 Created mount /content/drive/MyDrive/Multi-Agent-System/pricer_service2.py\n",
      "\u001b[2K\u001b[1A\u001b[2K\u001b[1A\u001b[2K\u001b[34m⠏\u001b[0m Creating objects...\n",
      "\u001b[37m├── \u001b[0m🔨 Created mount /content/drive/MyDrive/Multi-Agent-System/pricer_service2.py\n",
      "\u001b[2K\u001b[1A\u001b[2K\u001b[1A\u001b[2K\u001b[34m⠹\u001b[0m Creating objects...\n",
      "\u001b[37m├── \u001b[0m🔨 Created mount /content/drive/MyDrive/Multi-Agent-System/pricer_service2.py\n",
      "\u001b[2K\u001b[1A\u001b[2K\u001b[1A\u001b[2K\u001b[34m⠴\u001b[0m Creating objects...\n",
      "\u001b[37m├── \u001b[0m🔨 Created mount /content/drive/MyDrive/Multi-Agent-System/pricer_service2.py\n",
      "\u001b[2K\u001b[1A\u001b[2K\u001b[1A\u001b[2K\u001b[34m⠏\u001b[0m Creating objects...\n",
      "\u001b[37m├── \u001b[0m🔨 Created mount /content/drive/MyDrive/Multi-Agent-System/pricer_service2.py\n",
      "\u001b[2K\u001b[1A\u001b[2K\u001b[1A\u001b[2K\u001b[34m⠹\u001b[0m Creating objects...\n",
      "\u001b[37m├── \u001b[0m🔨 Created mount /content/drive/MyDrive/Multi-Agent-System/pricer_service2.py\n",
      "\u001b[2K\u001b[1A\u001b[2K\u001b[1A\u001b[2K\u001b[34m⠴\u001b[0m Creating objects...\n",
      "\u001b[37m├── \u001b[0m🔨 Created mount /content/drive/MyDrive/Multi-Agent-System/pricer_service2.py\n",
      "\u001b[2K\u001b[1A\u001b[2K\u001b[1A\u001b[2K\u001b[34m⠇\u001b[0m Creating objects...\n",
      "\u001b[37m├── \u001b[0m🔨 Created mount /content/drive/MyDrive/Multi-Agent-System/pricer_service2.py\n",
      "\u001b[2K\u001b[1A\u001b[2K\u001b[1A\u001b[2K\u001b[34m⠙\u001b[0m Creating objects...\n",
      "\u001b[37m├── \u001b[0m🔨 Created mount /content/drive/MyDrive/Multi-Agent-System/pricer_service2.py\n",
      "\u001b[2K\u001b[1A\u001b[2K\u001b[1A\u001b[2K\u001b[34m⠼\u001b[0m Creating objects...\n",
      "\u001b[37m├── \u001b[0m🔨 Created mount /content/drive/MyDrive/Multi-Agent-System/pricer_service2.py\n",
      "\u001b[2K\u001b[1A\u001b[2K\u001b[1A\u001b[2K\u001b[34m⠧\u001b[0m Creating objects...\n",
      "\u001b[37m├── \u001b[0m🔨 Created mount /content/drive/MyDrive/Multi-Agent-System/pricer_service2.py\n",
      "\u001b[2K\u001b[1A\u001b[2K\u001b[1A\u001b[2K\u001b[34m⠙\u001b[0m Creating objects...\n",
      "\u001b[37m├── \u001b[0m🔨 Created mount /content/drive/MyDrive/Multi-Agent-System/pricer_service2.py\n",
      "\u001b[2K\u001b[1A\u001b[2K\u001b[1A\u001b[2K\u001b[34m⠼\u001b[0m Creating objects...\n",
      "\u001b[37m├── \u001b[0m🔨 Created mount /content/drive/MyDrive/Multi-Agent-System/pricer_service2.py\n",
      "\u001b[2K\u001b[1A\u001b[2K\u001b[1A\u001b[2K\u001b[34m⠧\u001b[0m Creating objects...\n",
      "\u001b[37m├── \u001b[0m🔨 Created mount /content/drive/MyDrive/Multi-Agent-System/pricer_service2.py\n",
      "\u001b[2K\u001b[1A\u001b[2K\u001b[1A\u001b[2K\u001b[34m⠋\u001b[0m Creating objects...\n",
      "\u001b[37m├── \u001b[0m🔨 Created mount /content/drive/MyDrive/Multi-Agent-System/pricer_service2.py\n",
      "\u001b[2K\u001b[1A\u001b[2K\u001b[1A\u001b[2K\u001b[34m⠸\u001b[0m Creating objects...\n",
      "\u001b[37m├── \u001b[0m🔨 Created mount /content/drive/MyDrive/Multi-Agent-System/pricer_service2.py\n",
      "\u001b[2K\u001b[1A\u001b[2K\u001b[1A\u001b[2K\u001b[34m⠦\u001b[0m Creating objects...\n",
      "\u001b[37m├── \u001b[0m🔨 Created mount /content/drive/MyDrive/Multi-Agent-System/pricer_service2.py\n",
      "\u001b[2K\u001b[1A\u001b[2K\u001b[1A\u001b[2K\u001b[34m⠏\u001b[0m Creating objects...\n",
      "\u001b[37m├── \u001b[0m🔨 Created mount /content/drive/MyDrive/Multi-Agent-System/pricer_service2.py\n",
      "\u001b[2K\u001b[1A\u001b[2K\u001b[1A\u001b[2K\u001b[34m⠹\u001b[0m Creating objects...\n",
      "\u001b[37m├── \u001b[0m🔨 Created mount /content/drive/MyDrive/Multi-Agent-System/pricer_service2.py\n",
      "\u001b[2K\u001b[1A\u001b[2K\u001b[1A\u001b[2K\u001b[34m⠦\u001b[0m Creating objects...\n",
      "\u001b[37m├── \u001b[0m🔨 Created mount /content/drive/MyDrive/Multi-Agent-System/pricer_service2.py\n",
      "\u001b[2K\u001b[1A\u001b[2K\u001b[1A\u001b[2K\u001b[34m⠏\u001b[0m Creating objects...\n",
      "\u001b[37m├── \u001b[0m🔨 Created mount /content/drive/MyDrive/Multi-Agent-System/pricer_service2.py\n",
      "\u001b[2K\u001b[1A\u001b[2K\u001b[1A\u001b[2K\u001b[34m⠹\u001b[0m Creating objects...\n",
      "\u001b[37m├── \u001b[0m🔨 Created mount /content/drive/MyDrive/Multi-Agent-System/pricer_service2.py\n",
      "\u001b[2K\u001b[1A\u001b[2K\u001b[1A\u001b[2K\u001b[34m⠴\u001b[0m Creating objects...\n",
      "\u001b[37m├── \u001b[0m🔨 Created mount /content/drive/MyDrive/Multi-Agent-System/pricer_service2.py\n",
      "\u001b[2K\u001b[1A\u001b[2K\u001b[1A\u001b[2K\u001b[34m⠇\u001b[0m Creating objects...\n",
      "\u001b[37m├── \u001b[0m🔨 Created mount /content/drive/MyDrive/Multi-Agent-System/pricer_service2.py\n",
      "\u001b[2K\u001b[1A\u001b[2K\u001b[1A\u001b[2K\u001b[34m⠙\u001b[0m Creating objects...\n",
      "\u001b[37m├── \u001b[0m🔨 Created mount /content/drive/MyDrive/Multi-Agent-System/pricer_service2.py\n",
      "\u001b[2K\u001b[1A\u001b[2K\u001b[1A\u001b[2K\u001b[34m⠼\u001b[0m Creating objects...\n",
      "\u001b[37m├── \u001b[0m🔨 Created mount /content/drive/MyDrive/Multi-Agent-System/pricer_service2.py\n",
      "\u001b[2K\u001b[1A\u001b[2K\u001b[1A\u001b[2K\u001b[34m⠇\u001b[0m Creating objects...\n",
      "\u001b[37m├── \u001b[0m🔨 Created mount /content/drive/MyDrive/Multi-Agent-System/pricer_service2.py\n",
      "\u001b[2K\u001b[1A\u001b[2K\u001b[1A\u001b[2K\u001b[34m⠙\u001b[0m Creating objects...\n",
      "\u001b[37m├── \u001b[0m🔨 Created mount /content/drive/MyDrive/Multi-Agent-System/pricer_service2.py\n",
      "\u001b[2K\u001b[1A\u001b[2K\u001b[1A\u001b[2K\u001b[34m⠼\u001b[0m Creating objects...\n",
      "\u001b[37m├── \u001b[0m🔨 Created mount /content/drive/MyDrive/Multi-Agent-System/pricer_service2.py\n",
      "\u001b[2K\u001b[1A\u001b[2K\u001b[1A\u001b[2K\u001b[34m⠧\u001b[0m Creating objects...\n",
      "\u001b[37m├── \u001b[0m🔨 Created mount /content/drive/MyDrive/Multi-Agent-System/pricer_service2.py\n",
      "\u001b[2K\u001b[1A\u001b[2K\u001b[1A\u001b[2K\u001b[34m⠋\u001b[0m Creating objects...\n",
      "\u001b[37m├── \u001b[0m🔨 Created mount /content/drive/MyDrive/Multi-Agent-System/pricer_service2.py\n",
      "\u001b[2K\u001b[1A\u001b[2K\u001b[1A\u001b[2K\u001b[34m⠸\u001b[0m Creating objects...\n",
      "\u001b[37m├── \u001b[0m🔨 Created mount /content/drive/MyDrive/Multi-Agent-System/pricer_service2.py\n",
      "\u001b[2K\u001b[1A\u001b[2K\u001b[1A\u001b[2K\u001b[34m⠦\u001b[0m Creating objects...\n",
      "\u001b[37m├── \u001b[0m🔨 Created mount /content/drive/MyDrive/Multi-Agent-System/pricer_service2.py\n",
      "\u001b[2K\u001b[1A\u001b[2K\u001b[1A\u001b[2K\u001b[34m⠋\u001b[0m Creating objects...\n",
      "\u001b[37m├── \u001b[0m🔨 Created mount /content/drive/MyDrive/Multi-Agent-System/pricer_service2.py\n",
      "\u001b[2K\u001b[1A\u001b[2K\u001b[1A\u001b[2K\u001b[34m⠸\u001b[0m Creating objects...\n",
      "\u001b[37m├── \u001b[0m🔨 Created mount /content/drive/MyDrive/Multi-Agent-System/pricer_service2.py\n",
      "\u001b[2K\u001b[1A\u001b[2K\u001b[1A\u001b[2K\u001b[34m⠦\u001b[0m Creating objects...\n",
      "\u001b[37m├── \u001b[0m🔨 Created mount /content/drive/MyDrive/Multi-Agent-System/pricer_service2.py\n",
      "\u001b[2K\u001b[1A\u001b[2K\u001b[1A\u001b[2K\u001b[34m⠏\u001b[0m Creating objects...\n",
      "\u001b[37m├── \u001b[0m🔨 Created mount /content/drive/MyDrive/Multi-Agent-System/pricer_service2.py\n",
      "\u001b[2K\u001b[1A\u001b[2K\u001b[1A\u001b[2K\u001b[34m⠹\u001b[0m Creating objects...\n",
      "\u001b[37m├── \u001b[0m🔨 Created mount /content/drive/MyDrive/Multi-Agent-System/pricer_service2.py\n",
      "\u001b[2K\u001b[1A\u001b[2K\u001b[1A\u001b[2K\u001b[34m⠴\u001b[0m Creating objects...\n",
      "\u001b[37m├── \u001b[0m🔨 Created mount /content/drive/MyDrive/Multi-Agent-System/pricer_service2.py\n",
      "\u001b[2K\u001b[1A\u001b[2K\u001b[1A\u001b[2K\u001b[34m⠇\u001b[0m Creating objects...\n",
      "\u001b[37m├── \u001b[0m🔨 Created mount /content/drive/MyDrive/Multi-Agent-System/pricer_service2.py\n",
      "\u001b[2K\u001b[1A\u001b[2K\u001b[1A\u001b[2K\u001b[34m⠹\u001b[0m Creating objects...\n",
      "\u001b[37m├── \u001b[0m🔨 Created mount /content/drive/MyDrive/Multi-Agent-System/pricer_service2.py\n",
      "\u001b[2K\u001b[1A\u001b[2K\u001b[1A\u001b[2K\u001b[34m⠴\u001b[0m Creating objects...\n",
      "\u001b[37m├── \u001b[0m🔨 Created mount /content/drive/MyDrive/Multi-Agent-System/pricer_service2.py\n",
      "\u001b[2K\u001b[1A\u001b[2K\u001b[1A\u001b[2K\u001b[34m⠇\u001b[0m Creating objects...\n",
      "\u001b[37m├── \u001b[0m🔨 Created mount /content/drive/MyDrive/Multi-Agent-System/pricer_service2.py\n",
      "\u001b[2K\u001b[1A\u001b[2K\u001b[1A\u001b[2K\u001b[34m⠙\u001b[0m Creating objects...\n",
      "\u001b[37m├── \u001b[0m🔨 Created mount /content/drive/MyDrive/Multi-Agent-System/pricer_service2.py\n",
      "\u001b[2K\u001b[1A\u001b[2K\u001b[1A\u001b[2K\u001b[34m⠼\u001b[0m Creating objects...\n",
      "\u001b[37m├── \u001b[0m🔨 Created mount /content/drive/MyDrive/Multi-Agent-System/pricer_service2.py\n",
      "\u001b[2K\u001b[1A\u001b[2K\u001b[1A\u001b[2K\u001b[34m⠧\u001b[0m Creating objects...\n",
      "\u001b[37m├── \u001b[0m🔨 Created mount /content/drive/MyDrive/Multi-Agent-System/pricer_service2.py\n",
      "\u001b[2K\u001b[1A\u001b[2K\u001b[1A\u001b[2K\u001b[34m⠋\u001b[0m Creating objects...\n",
      "\u001b[37m├── \u001b[0m🔨 Created mount /content/drive/MyDrive/Multi-Agent-System/pricer_service2.py\n",
      "\u001b[2K\u001b[1A\u001b[2K\u001b[1A\u001b[2K\u001b[34m⠼\u001b[0m Creating objects...\n",
      "\u001b[37m├── \u001b[0m🔨 Created mount /content/drive/MyDrive/Multi-Agent-System/pricer_service2.py\n",
      "\u001b[2K\u001b[1A\u001b[2K\u001b[1A\u001b[2K\u001b[34m⠧\u001b[0m Creating objects...\n",
      "\u001b[37m├── \u001b[0m🔨 Created mount /content/drive/MyDrive/Multi-Agent-System/pricer_service2.py\n",
      "\u001b[2K\u001b[1A\u001b[2K\u001b[1A\u001b[2K\u001b[34m⠋\u001b[0m Creating objects...\n",
      "\u001b[37m├── \u001b[0m🔨 Created mount /content/drive/MyDrive/Multi-Agent-System/pricer_service2.py\n",
      "\u001b[2K\u001b[1A\u001b[2K\u001b[1A\u001b[2K\u001b[34m⠸\u001b[0m Creating objects...\n",
      "\u001b[37m├── \u001b[0m🔨 Created mount /content/drive/MyDrive/Multi-Agent-System/pricer_service2.py\n",
      "\u001b[2K\u001b[1A\u001b[2K\u001b[1A\u001b[2K\u001b[34m⠦\u001b[0m Creating objects...\n",
      "\u001b[37m├── \u001b[0m🔨 Created mount /content/drive/MyDrive/Multi-Agent-System/pricer_service2.py\n",
      "\u001b[2K\u001b[1A\u001b[2K\u001b[1A\u001b[2K\u001b[34m⠏\u001b[0m Creating objects...\n",
      "\u001b[37m├── \u001b[0m🔨 Created mount /content/drive/MyDrive/Multi-Agent-System/pricer_service2.py\n",
      "\u001b[2K\u001b[1A\u001b[2K\u001b[1A\u001b[2K\u001b[34m⠹\u001b[0m Creating objects...\n",
      "\u001b[37m├── \u001b[0m🔨 Created mount /content/drive/MyDrive/Multi-Agent-System/pricer_service2.py\n",
      "\u001b[2K\u001b[1A\u001b[2K\u001b[1A\u001b[2K\u001b[34m⠦\u001b[0m Creating objects...\n",
      "\u001b[37m├── \u001b[0m🔨 Created mount /content/drive/MyDrive/Multi-Agent-System/pricer_service2.py\n",
      "\u001b[2K\u001b[1A\u001b[2K\u001b[1A\u001b[2K\u001b[34m⠏\u001b[0m Creating objects...\n",
      "\u001b[37m├── \u001b[0m🔨 Created mount /content/drive/MyDrive/Multi-Agent-System/pricer_service2.py\n",
      "\u001b[2K\u001b[1A\u001b[2K\u001b[1A\u001b[2K\u001b[34m⠹\u001b[0m Creating objects...\n",
      "\u001b[37m├── \u001b[0m🔨 Created mount /content/drive/MyDrive/Multi-Agent-System/pricer_service2.py\n",
      "\u001b[2K\u001b[1A\u001b[2K\u001b[1A\u001b[2K\u001b[34m⠴\u001b[0m Creating objects...\n",
      "\u001b[37m├── \u001b[0m🔨 Created mount /content/drive/MyDrive/Multi-Agent-System/pricer_service2.py\n",
      "\u001b[2K\u001b[1A\u001b[2K\u001b[1A\u001b[2K\u001b[34m⠇\u001b[0m Creating objects...\n",
      "\u001b[37m├── \u001b[0m🔨 Created mount /content/drive/MyDrive/Multi-Agent-System/pricer_service2.py\n",
      "\u001b[2K\u001b[1A\u001b[2K\u001b[1A\u001b[2K\u001b[34m⠙\u001b[0m Creating objects...\n",
      "\u001b[37m├── \u001b[0m🔨 Created mount /content/drive/MyDrive/Multi-Agent-System/pricer_service2.py\n",
      "\u001b[2K\u001b[1A\u001b[2K\u001b[1A\u001b[2K\u001b[34m⠼\u001b[0m Creating objects...\n",
      "\u001b[37m├── \u001b[0m🔨 Created mount /content/drive/MyDrive/Multi-Agent-System/pricer_service2.py\n",
      "\u001b[2K\u001b[1A\u001b[2K\u001b[1A\u001b[2K\u001b[34m⠇\u001b[0m Creating objects...\n",
      "\u001b[37m├── \u001b[0m🔨 Created mount /content/drive/MyDrive/Multi-Agent-System/pricer_service2.py\n",
      "\u001b[2K\u001b[1A\u001b[2K\u001b[1A\u001b[2K\u001b[33m\u001b[1AFetching 10 files:  20%|██        | 2/10 [00:00<00:00, 10.38it/s]\n",
      "\u001b[0m\u001b[34m⠙\u001b[0m\u001b[33m Creating objects...\u001b[0m\u001b[33m\n",
      "\u001b[0m\u001b[37m├── \u001b[0m\u001b[33m🔨 Created mount /content/drive/MyDrive/Multi-Agent-System/pricer_service2.py\u001b[0m\u001b[33m\n",
      "\u001b[2K\u001b[1A\u001b[2K\u001b[1A\u001b[2K\u001b[34m⠙\u001b[0m Creating objects...\n",
      "\u001b[37m├── \u001b[0m🔨 Created mount /content/drive/MyDrive/Multi-Agent-System/pricer_service2.py\n",
      "\u001b[2K\u001b[1A\u001b[2K\u001b[1A\u001b[2K\u001b[34m⠼\u001b[0m Creating objects...\n",
      "\u001b[37m├── \u001b[0m🔨 Created mount /content/drive/MyDrive/Multi-Agent-System/pricer_service2.py\n",
      "\u001b[2K\u001b[1A\u001b[2K\u001b[1A\u001b[2K\u001b[34m⠧\u001b[0m Creating objects...\n",
      "\u001b[37m├── \u001b[0m🔨 Created mount /content/drive/MyDrive/Multi-Agent-System/pricer_service2.py\n",
      "\u001b[2K\u001b[1A\u001b[2K\u001b[1A\u001b[2K\u001b[34m⠋\u001b[0m Creating objects...\n",
      "\u001b[37m├── \u001b[0m🔨 Created mount /content/drive/MyDrive/Multi-Agent-System/pricer_service2.py\n",
      "\u001b[2K\u001b[1A\u001b[2K\u001b[1A\u001b[2K\u001b[34m⠸\u001b[0m Creating objects...\n",
      "\u001b[37m├── \u001b[0m🔨 Created mount /content/drive/MyDrive/Multi-Agent-System/pricer_service2.py\n",
      "\u001b[2K\u001b[1A\u001b[2K\u001b[1A\u001b[2K\u001b[34m⠦\u001b[0m Creating objects...\n",
      "\u001b[37m├── \u001b[0m🔨 Created mount /content/drive/MyDrive/Multi-Agent-System/pricer_service2.py\n",
      "\u001b[2K\u001b[1A\u001b[2K\u001b[1A\u001b[2K\u001b[34m⠋\u001b[0m Creating objects...\n",
      "\u001b[37m├── \u001b[0m🔨 Created mount /content/drive/MyDrive/Multi-Agent-System/pricer_service2.py\n",
      "\u001b[2K\u001b[1A\u001b[2K\u001b[1A\u001b[2K\u001b[34m⠸\u001b[0m Creating objects...\n",
      "\u001b[37m├── \u001b[0m🔨 Created mount /content/drive/MyDrive/Multi-Agent-System/pricer_service2.py\n",
      "\u001b[2K\u001b[1A\u001b[2K\u001b[1A\u001b[2K\u001b[34m⠦\u001b[0m Creating objects...\n",
      "\u001b[37m├── \u001b[0m🔨 Created mount /content/drive/MyDrive/Multi-Agent-System/pricer_service2.py\n",
      "\u001b[2K\u001b[1A\u001b[2K\u001b[1A\u001b[2K\u001b[34m⠏\u001b[0m Creating objects...\n",
      "\u001b[37m├── \u001b[0m🔨 Created mount /content/drive/MyDrive/Multi-Agent-System/pricer_service2.py\n",
      "\u001b[2K\u001b[1A\u001b[2K\u001b[1A\u001b[2K\u001b[34m⠹\u001b[0m Creating objects...\n",
      "\u001b[37m├── \u001b[0m🔨 Created mount /content/drive/MyDrive/Multi-Agent-System/pricer_service2.py\n",
      "\u001b[2K\u001b[1A\u001b[2K\u001b[1A\u001b[2K\u001b[34m⠴\u001b[0m Creating objects...\n",
      "\u001b[37m├── \u001b[0m🔨 Created mount /content/drive/MyDrive/Multi-Agent-System/pricer_service2.py\n",
      "\u001b[2K\u001b[1A\u001b[2K\u001b[1A\u001b[2K\u001b[34m⠇\u001b[0m Creating objects...\n",
      "\u001b[37m├── \u001b[0m🔨 Created mount /content/drive/MyDrive/Multi-Agent-System/pricer_service2.py\n",
      "\u001b[2K\u001b[1A\u001b[2K\u001b[1A\u001b[2K\u001b[34m⠹\u001b[0m Creating objects...\n",
      "\u001b[37m├── \u001b[0m🔨 Created mount /content/drive/MyDrive/Multi-Agent-System/pricer_service2.py\n",
      "\u001b[2K\u001b[1A\u001b[2K\u001b[1A\u001b[2K\u001b[33m\u001b[1AFetching 10 files:  20%|██        | 2/10 [00:19<00:00, 10.38it/s]\n",
      "\u001b[0m\u001b[34m⠸\u001b[0m\u001b[33m Creating objects...\u001b[0m\u001b[33m\n",
      "\u001b[0m\u001b[37m├── \u001b[0m\u001b[33m🔨 Created mount /content/drive/MyDrive/Multi-Agent-System/pricer_service2.py\u001b[0m\u001b[33m\n",
      "\u001b[2K\u001b[1A\u001b[2K\u001b[1A\u001b[2K\u001b[33m\u001b[1AFetching 10 files:  60%|██████    | 6/10 [00:23<00:17,  4.32s/it]Fetching 10 files: 100%|██████████| 10/10 [00:23<00:00,  2.34s/it]\n",
      "\u001b[0m\u001b[34m⠸\u001b[0m\u001b[33m Creating objects...\u001b[0m\u001b[33m\n",
      "\u001b[0m\u001b[37m├── \u001b[0m\u001b[33m🔨 Created mount /content/drive/MyDrive/Multi-Agent-System/pricer_service2.py\u001b[0m\u001b[33m\n",
      "\u001b[2K\u001b[1A\u001b[2K\u001b[1A\u001b[2K\u001b[33m\n",
      "\u001b[0m\u001b[34m⠼\u001b[0m\u001b[33m Creating objects...\u001b[0m\u001b[33m\n",
      "\u001b[0m\u001b[37m├── \u001b[0m\u001b[33m🔨 Created mount /content/drive/MyDrive/Multi-Agent-System/pricer_service2.py\u001b[0m\u001b[33m\n",
      "\u001b[2K\u001b[1A\u001b[2K\u001b[1A\u001b[2K\u001b[34m⠴\u001b[0m Creating objects...\n",
      "\u001b[37m├── \u001b[0m🔨 Created mount /content/drive/MyDrive/Multi-Agent-System/pricer_service2.py\n",
      "\u001b[2K\u001b[1A\u001b[2K\u001b[1A\u001b[2K\u001b[33m\u001b[1AFetching 7 files:   0%|          | 0/7 [00:00<?, ?it/s]\n",
      "\u001b[0m\u001b[34m⠦\u001b[0m\u001b[33m Creating objects...\u001b[0m\u001b[33m\n",
      "\u001b[0m\u001b[37m├── \u001b[0m\u001b[33m🔨 Created mount /content/drive/MyDrive/Multi-Agent-System/pricer_service2.py\u001b[0m\u001b[33m\n",
      "\u001b[2K\u001b[1A\u001b[2K\u001b[1A\u001b[2K\u001b[34m⠇\u001b[0m Creating objects...\n",
      "\u001b[37m├── \u001b[0m🔨 Created mount /content/drive/MyDrive/Multi-Agent-System/pricer_service2.py\n",
      "\u001b[2K\u001b[1A\u001b[2K\u001b[1A\u001b[2K\u001b[34m⠙\u001b[0m Creating objects...\n",
      "\u001b[37m├── \u001b[0m🔨 Created mount /content/drive/MyDrive/Multi-Agent-System/pricer_service2.py\n",
      "\u001b[2K\u001b[1A\u001b[2K\u001b[1A\u001b[2K\u001b[34m⠼\u001b[0m Creating objects...\n",
      "\u001b[37m├── \u001b[0m🔨 Created mount /content/drive/MyDrive/Multi-Agent-System/pricer_service2.py\n",
      "\u001b[2K\u001b[1A\u001b[2K\u001b[1A\u001b[2K\u001b[34m⠧\u001b[0m Creating objects...\n",
      "\u001b[37m├── \u001b[0m🔨 Created mount /content/drive/MyDrive/Multi-Agent-System/pricer_service2.py\n",
      "\u001b[2K\u001b[1A\u001b[2K\u001b[1A\u001b[2K\u001b[33m\u001b[1AFetching 7 files:  14%|█▍        | 1/7 [00:00<00:01,  5.64it/s]\n",
      "\u001b[0m\u001b[34m⠇\u001b[0m\u001b[33m Creating objects...\u001b[0m\u001b[33m\n",
      "\u001b[0m\u001b[37m├── \u001b[0m\u001b[33m🔨 Created mount /content/drive/MyDrive/Multi-Agent-System/pricer_service2.py\u001b[0m\u001b[33m\n",
      "\u001b[2K\u001b[1A\u001b[2K\u001b[1A\u001b[2K\u001b[33m\u001b[1AFetching 7 files:  43%|████▎     | 3/7 [00:01<00:01,  2.58it/s]Fetching 7 files: 100%|██████████| 7/7 [00:01<00:00,  6.37it/s]\n",
      "\u001b[0m\u001b[34m⠇\u001b[0m\u001b[33m Creating objects...\u001b[0m\u001b[33m\n",
      "\u001b[0m\u001b[37m├── \u001b[0m\u001b[33m🔨 Created mount /content/drive/MyDrive/Multi-Agent-System/pricer_service2.py\u001b[0m\u001b[33m\n",
      "\u001b[2K\u001b[1A\u001b[2K\u001b[1A\u001b[2K\u001b[34m⠋\u001b[0m Creating objects...\n",
      "\u001b[37m├── \u001b[0m🔨 Created mount /content/drive/MyDrive/Multi-Agent-System/pricer_service2.py\n",
      "\u001b[2K\u001b[1A\u001b[2K\u001b[1A\u001b[2K\u001b[34m⠼\u001b[0m Creating objects...\n",
      "\u001b[37m├── \u001b[0m🔨 Created mount /content/drive/MyDrive/Multi-Agent-System/pricer_service2.py\n",
      "\u001b[2K\u001b[1A\u001b[2K\u001b[1A\u001b[2K\u001b[34m⠧\u001b[0m Creating objects...\n",
      "\u001b[37m├── \u001b[0m🔨 Created mount /content/drive/MyDrive/Multi-Agent-System/pricer_service2.py\n",
      "\u001b[2K\u001b[1A\u001b[2K\u001b[1A\u001b[2K\u001b[33mSaving image...\n",
      "\u001b[0m\u001b[34m⠏\u001b[0m\u001b[33m Creating objects...\u001b[0m\u001b[33m\n",
      "\u001b[0m\u001b[37m├── \u001b[0m\u001b[33m🔨 Created mount /content/drive/MyDrive/Multi-Agent-System/pricer_service2.py\u001b[0m\u001b[33m\n",
      "\u001b[2K\u001b[1A\u001b[2K\u001b[1A\u001b[2K\u001b[34m⠋\u001b[0m Creating objects...\n",
      "\u001b[37m├── \u001b[0m🔨 Created mount /content/drive/MyDrive/Multi-Agent-System/pricer_service2.py\n",
      "\u001b[2K\u001b[1A\u001b[2K\u001b[1A\u001b[2K\u001b[34m⠸\u001b[0m Creating objects...\n",
      "\u001b[37m├── \u001b[0m🔨 Created mount /content/drive/MyDrive/Multi-Agent-System/pricer_service2.py\n",
      "\u001b[2K\u001b[1A\u001b[2K\u001b[1A\u001b[2K\u001b[34m⠦\u001b[0m Creating objects...\n",
      "\u001b[37m├── \u001b[0m🔨 Created mount /content/drive/MyDrive/Multi-Agent-System/pricer_service2.py\n",
      "\u001b[2K\u001b[1A\u001b[2K\u001b[1A\u001b[2K\u001b[34m⠏\u001b[0m Creating objects...\n",
      "\u001b[37m├── \u001b[0m🔨 Created mount /content/drive/MyDrive/Multi-Agent-System/pricer_service2.py\n",
      "\u001b[2K\u001b[1A\u001b[2K\u001b[1A\u001b[2K\u001b[34m⠹\u001b[0m Creating objects...\n",
      "\u001b[37m├── \u001b[0m🔨 Created mount /content/drive/MyDrive/Multi-Agent-System/pricer_service2.py\n",
      "\u001b[2K\u001b[1A\u001b[2K\u001b[1A\u001b[2K\u001b[34m⠦\u001b[0m Creating objects...\n",
      "\u001b[37m├── \u001b[0m🔨 Created mount /content/drive/MyDrive/Multi-Agent-System/pricer_service2.py\n",
      "\u001b[2K\u001b[1A\u001b[2K\u001b[1A\u001b[2K\u001b[34m⠏\u001b[0m Creating objects...\n",
      "\u001b[37m├── \u001b[0m🔨 Created mount /content/drive/MyDrive/Multi-Agent-System/pricer_service2.py\n",
      "\u001b[2K\u001b[1A\u001b[2K\u001b[1A\u001b[2K\u001b[34m⠹\u001b[0m Creating objects...\n",
      "\u001b[37m├── \u001b[0m🔨 Created mount /content/drive/MyDrive/Multi-Agent-System/pricer_service2.py\n",
      "\u001b[2K\u001b[1A\u001b[2K\u001b[1A\u001b[2K\u001b[34m⠴\u001b[0m Creating objects...\n",
      "\u001b[37m├── \u001b[0m🔨 Created mount /content/drive/MyDrive/Multi-Agent-System/pricer_service2.py\n",
      "\u001b[2K\u001b[1A\u001b[2K\u001b[1A\u001b[2K\u001b[34m⠇\u001b[0m Creating objects...\n",
      "\u001b[37m├── \u001b[0m🔨 Created mount /content/drive/MyDrive/Multi-Agent-System/pricer_service2.py\n",
      "\u001b[2K\u001b[1A\u001b[2K\u001b[1A\u001b[2K\u001b[34m⠙\u001b[0m Creating objects...\n",
      "\u001b[37m├── \u001b[0m🔨 Created mount /content/drive/MyDrive/Multi-Agent-System/pricer_service2.py\n",
      "\u001b[2K\u001b[1A\u001b[2K\u001b[1A\u001b[2K\u001b[34m⠼\u001b[0m Creating objects...\n",
      "\u001b[37m├── \u001b[0m🔨 Created mount /content/drive/MyDrive/Multi-Agent-System/pricer_service2.py\n",
      "\u001b[2K\u001b[1A\u001b[2K\u001b[1A\u001b[2K\u001b[34m⠇\u001b[0m Creating objects...\n",
      "\u001b[37m├── \u001b[0m🔨 Created mount /content/drive/MyDrive/Multi-Agent-System/pricer_service2.py\n",
      "\u001b[2K\u001b[1A\u001b[2K\u001b[1A\u001b[2K\u001b[34m⠙\u001b[0m Creating objects...\n",
      "\u001b[37m├── \u001b[0m🔨 Created mount /content/drive/MyDrive/Multi-Agent-System/pricer_service2.py\n",
      "\u001b[2K\u001b[1A\u001b[2K\u001b[1A\u001b[2K\u001b[34m⠼\u001b[0m Creating objects...\n",
      "\u001b[37m├── \u001b[0m🔨 Created mount /content/drive/MyDrive/Multi-Agent-System/pricer_service2.py\n",
      "\u001b[2K\u001b[1A\u001b[2K\u001b[1A\u001b[2K\u001b[34m⠧\u001b[0m Creating objects...\n",
      "\u001b[37m├── \u001b[0m🔨 Created mount /content/drive/MyDrive/Multi-Agent-System/pricer_service2.py\n",
      "\u001b[2K\u001b[1A\u001b[2K\u001b[1A\u001b[2K\u001b[34m⠋\u001b[0m Creating objects...\n",
      "\u001b[37m├── \u001b[0m🔨 Created mount /content/drive/MyDrive/Multi-Agent-System/pricer_service2.py\n",
      "\u001b[2K\u001b[1A\u001b[2K\u001b[1A\u001b[2K\u001b[34m⠸\u001b[0m Creating objects...\n",
      "\u001b[37m├── \u001b[0m🔨 Created mount /content/drive/MyDrive/Multi-Agent-System/pricer_service2.py\n",
      "\u001b[2K\u001b[1A\u001b[2K\u001b[1A\u001b[2K\u001b[34m⠦\u001b[0m Creating objects...\n",
      "\u001b[37m├── \u001b[0m🔨 Created mount /content/drive/MyDrive/Multi-Agent-System/pricer_service2.py\n",
      "\u001b[2K\u001b[1A\u001b[2K\u001b[1A\u001b[2K\u001b[34m⠋\u001b[0m Creating objects...\n",
      "\u001b[37m├── \u001b[0m🔨 Created mount /content/drive/MyDrive/Multi-Agent-System/pricer_service2.py\n",
      "\u001b[2K\u001b[1A\u001b[2K\u001b[1A\u001b[2K\u001b[34m⠸\u001b[0m Creating objects...\n",
      "\u001b[37m├── \u001b[0m🔨 Created mount /content/drive/MyDrive/Multi-Agent-System/pricer_service2.py\n",
      "\u001b[2K\u001b[1A\u001b[2K\u001b[1A\u001b[2K\u001b[34m⠦\u001b[0m Creating objects...\n",
      "\u001b[37m├── \u001b[0m🔨 Created mount /content/drive/MyDrive/Multi-Agent-System/pricer_service2.py\n",
      "\u001b[2K\u001b[1A\u001b[2K\u001b[1A\u001b[2K\u001b[34m⠏\u001b[0m Creating objects...\n",
      "\u001b[37m├── \u001b[0m🔨 Created mount /content/drive/MyDrive/Multi-Agent-System/pricer_service2.py\n",
      "\u001b[2K\u001b[1A\u001b[2K\u001b[1A\u001b[2K\u001b[34m⠹\u001b[0m Creating objects...\n",
      "\u001b[37m├── \u001b[0m🔨 Created mount /content/drive/MyDrive/Multi-Agent-System/pricer_service2.py\n",
      "\u001b[2K\u001b[1A\u001b[2K\u001b[1A\u001b[2K\u001b[34m⠴\u001b[0m Creating objects...\n",
      "\u001b[37m├── \u001b[0m🔨 Created mount /content/drive/MyDrive/Multi-Agent-System/pricer_service2.py\n",
      "\u001b[2K\u001b[1A\u001b[2K\u001b[1A\u001b[2K\u001b[34m⠇\u001b[0m Creating objects...\n",
      "\u001b[37m├── \u001b[0m🔨 Created mount /content/drive/MyDrive/Multi-Agent-System/pricer_service2.py\n",
      "\u001b[2K\u001b[1A\u001b[2K\u001b[1A\u001b[2K\u001b[34m⠹\u001b[0m Creating objects...\n",
      "\u001b[37m├── \u001b[0m🔨 Created mount /content/drive/MyDrive/Multi-Agent-System/pricer_service2.py\n",
      "\u001b[2K\u001b[1A\u001b[2K\u001b[1A\u001b[2K\u001b[34m⠴\u001b[0m Creating objects...\n",
      "\u001b[37m├── \u001b[0m🔨 Created mount /content/drive/MyDrive/Multi-Agent-System/pricer_service2.py\n",
      "\u001b[2K\u001b[1A\u001b[2K\u001b[1A\u001b[2K\u001b[34m⠇\u001b[0m Creating objects...\n",
      "\u001b[37m├── \u001b[0m🔨 Created mount /content/drive/MyDrive/Multi-Agent-System/pricer_service2.py\n",
      "\u001b[2K\u001b[1A\u001b[2K\u001b[1A\u001b[2K\u001b[34m⠙\u001b[0m Creating objects...\n",
      "\u001b[37m├── \u001b[0m🔨 Created mount /content/drive/MyDrive/Multi-Agent-System/pricer_service2.py\n",
      "\u001b[2K\u001b[1A\u001b[2K\u001b[1A\u001b[2K\u001b[34m⠼\u001b[0m Creating objects...\n",
      "\u001b[37m├── \u001b[0m🔨 Created mount /content/drive/MyDrive/Multi-Agent-System/pricer_service2.py\n",
      "\u001b[2K\u001b[1A\u001b[2K\u001b[1A\u001b[2K\u001b[34m⠧\u001b[0m Creating objects...\n",
      "\u001b[37m├── \u001b[0m🔨 Created mount /content/drive/MyDrive/Multi-Agent-System/pricer_service2.py\n",
      "\u001b[2K\u001b[1A\u001b[2K\u001b[1A\u001b[2K\u001b[34m⠋\u001b[0m Creating objects...\n",
      "\u001b[37m├── \u001b[0m🔨 Created mount /content/drive/MyDrive/Multi-Agent-System/pricer_service2.py\n",
      "\u001b[2K\u001b[1A\u001b[2K\u001b[1A\u001b[2K\u001b[34m⠼\u001b[0m Creating objects...\n",
      "\u001b[37m├── \u001b[0m🔨 Created mount /content/drive/MyDrive/Multi-Agent-System/pricer_service2.py\n",
      "\u001b[2K\u001b[1A\u001b[2K\u001b[1A\u001b[2K\u001b[34m⠧\u001b[0m Creating objects...\n",
      "\u001b[37m├── \u001b[0m🔨 Created mount /content/drive/MyDrive/Multi-Agent-System/pricer_service2.py\n",
      "\u001b[2K\u001b[1A\u001b[2K\u001b[1A\u001b[2K\u001b[34m⠋\u001b[0m Creating objects...\n",
      "\u001b[37m├── \u001b[0m🔨 Created mount /content/drive/MyDrive/Multi-Agent-System/pricer_service2.py\n",
      "\u001b[2K\u001b[1A\u001b[2K\u001b[1A\u001b[2K\u001b[34m⠸\u001b[0m Creating objects...\n",
      "\u001b[37m├── \u001b[0m🔨 Created mount /content/drive/MyDrive/Multi-Agent-System/pricer_service2.py\n",
      "\u001b[2K\u001b[1A\u001b[2K\u001b[1A\u001b[2K\u001b[34m⠦\u001b[0m Creating objects...\n",
      "\u001b[37m├── \u001b[0m🔨 Created mount /content/drive/MyDrive/Multi-Agent-System/pricer_service2.py\n",
      "\u001b[2K\u001b[1A\u001b[2K\u001b[1A\u001b[2K\u001b[34m⠏\u001b[0m Creating objects...\n",
      "\u001b[37m├── \u001b[0m🔨 Created mount /content/drive/MyDrive/Multi-Agent-System/pricer_service2.py\n",
      "\u001b[2K\u001b[1A\u001b[2K\u001b[1A\u001b[2K\u001b[34m⠹\u001b[0m Creating objects...\n",
      "\u001b[37m├── \u001b[0m🔨 Created mount /content/drive/MyDrive/Multi-Agent-System/pricer_service2.py\n",
      "\u001b[2K\u001b[1A\u001b[2K\u001b[1A\u001b[2K\u001b[34m⠦\u001b[0m Creating objects...\n",
      "\u001b[37m├── \u001b[0m🔨 Created mount /content/drive/MyDrive/Multi-Agent-System/pricer_service2.py\n",
      "\u001b[2K\u001b[1A\u001b[2K\u001b[1A\u001b[2K\u001b[34m⠏\u001b[0m Creating objects...\n",
      "\u001b[37m├── \u001b[0m🔨 Created mount /content/drive/MyDrive/Multi-Agent-System/pricer_service2.py\n",
      "\u001b[2K\u001b[1A\u001b[2K\u001b[1A\u001b[2K\u001b[34m⠹\u001b[0m Creating objects...\n",
      "\u001b[37m├── \u001b[0m🔨 Created mount /content/drive/MyDrive/Multi-Agent-System/pricer_service2.py\n",
      "\u001b[2K\u001b[1A\u001b[2K\u001b[1A\u001b[2K\u001b[34m⠴\u001b[0m Creating objects...\n",
      "\u001b[37m├── \u001b[0m🔨 Created mount /content/drive/MyDrive/Multi-Agent-System/pricer_service2.py\n",
      "\u001b[2K\u001b[1A\u001b[2K\u001b[1A\u001b[2K\u001b[33mUploading image snapshot…\u001b[0m \u001b[91m━━\u001b[0m\u001b[90m╺\u001b[0m\u001b[90m━━━━━━━━━━━━━━━━━━━━━━━━━━━━━━━━━━━━━\u001b[0m \u001b[32m0.1/2.3 GB\u001b[0m \u001b[33m0:00:00\u001b[0m\n",
      "\u001b[34m⠇\u001b[0m Creating objects...\n",
      "\u001b[37m├── \u001b[0m🔨 Created mount /content/drive/MyDrive/Multi-Agent-System/pricer_service2.py\n",
      "\u001b[2K\u001b[1A\u001b[2K\u001b[1A\u001b[2K\u001b[1A\u001b[2K\u001b[34m⠙\u001b[0m Creating objects...\n",
      "\u001b[37m├── \u001b[0m🔨 Created mount /content/drive/MyDrive/Multi-Agent-System/pricer_service2.py\n",
      "\u001b[2K\u001b[1A\u001b[2K\u001b[1A\u001b[2K\u001b[33mImage saved, took 11.44s\n",
      "\u001b[0m\u001b[34m⠹\u001b[0m\u001b[33m Creating objects...\u001b[0m\u001b[33m\n",
      "\u001b[0m\u001b[37m├── \u001b[0m\u001b[33m🔨 Created mount /content/drive/MyDrive/Multi-Agent-System/pricer_service2.py\u001b[0m\u001b[33m\n",
      "\u001b[2K\u001b[1A\u001b[2K\u001b[1A\u001b[2K\u001b[33mFinished image build for im-rUCJcpdwnpVz4Ehm4V9WEl\n",
      "\u001b[0m\u001b[34m⠹\u001b[0m\u001b[33m Creating objects...\u001b[0m\u001b[33m\n",
      "\u001b[0m\u001b[37m├── \u001b[0m\u001b[33m🔨 Created mount /content/drive/MyDrive/Multi-Agent-System/pricer_service2.py\u001b[0m\u001b[33m\n",
      "\u001b[2K\u001b[1A\u001b[2K\u001b[1A\u001b[2K\u001b[34m⠼\u001b[0m Creating objects...\n",
      "\u001b[37m├── \u001b[0m🔨 Created mount /content/drive/MyDrive/Multi-Agent-System/pricer_service2.py\n",
      "\u001b[2K\u001b[1A\u001b[2K\u001b[1A\u001b[2K\u001b[34m⠦\u001b[0m Creating objects...\n",
      "\u001b[37m├── \u001b[0m🔨 Created mount /content/drive/MyDrive/Multi-Agent-System/pricer_service2.py\n",
      "\u001b[37m├── \u001b[0m🔨 Created function Pricer.download_model_to_folder.\n",
      "\u001b[37m└── \u001b[0m🔨 Created function Pricer.*.\n",
      "\u001b[1A\u001b[2K\u001b[1A\u001b[2K\u001b[1A\u001b[2K\u001b[1A\u001b[2K\u001b[32m✓\u001b[0m Created objects.\n",
      "\u001b[37m├── \u001b[0m🔨 Created mount /content/drive/MyDrive/Multi-Agent-System/pricer_service2.py\n",
      "\u001b[37m├── \u001b[0m🔨 Created function Pricer.download_model_to_folder.\n",
      "\u001b[37m└── \u001b[0m🔨 Created function Pricer.*.\n",
      "\u001b[32m✓\u001b[0m App deployed in 42.427s! 🎉\n",
      "\n",
      "View Deployment: \u001b[35mhttps://modal.com/apps/pauldavid551/main/deployed/pricer-service\u001b[0m\n"
     ]
    }
   ],
   "source": [
    "# You can also run \"modal deploy pricer_service2\" at the command line in an activated environment\n",
    "!modal deploy pricer_service2"
   ]
  },
  {
   "cell_type": "code",
   "execution_count": null,
   "id": "9e19daeb-1281-484b-9d2f-95cc6fed2622",
   "metadata": {
    "colab": {
     "base_uri": "https://localhost:8080/"
    },
    "id": "9e19daeb-1281-484b-9d2f-95cc6fed2622",
    "outputId": "0a4746af-a426-42f9-f754-e6be8efef7c8"
   },
   "outputs": [
    {
     "name": "stderr",
     "output_type": "stream",
     "text": [
      "/usr/lib/python3.11/asyncio/events.py:84: DeprecationError: 2025-01-27: `modal.Cls.lookup` is deprecated and will be removed in a future release. It can be replaced with `modal.Cls.from_name`.\n",
      "\n",
      "See https://modal.com/docs/guide/modal-1-0-migration for more information.\n",
      "  self._context.run(self._callback, *self._args)\n"
     ]
    },
    {
     "name": "stdout",
     "output_type": "stream",
     "text": [
      "199.9\n"
     ]
    }
   ],
   "source": [
    "Pricer = modal.Cls.lookup(\"pricer-service\", \"Pricer\")\n",
    "pricer = Pricer()\n",
    "reply = pricer.price.remote(\"Quadcast HyperX condenser mic, connects via usb-c to your computer for crystal clear audio\")\n",
    "print(reply)"
   ]
  },
  {
   "cell_type": "markdown",
   "id": "9c1b1451-6249-4462-bf2d-5937c059926c",
   "metadata": {
    "id": "9c1b1451-6249-4462-bf2d-5937c059926c"
   },
   "source": [
    "# Optional: Keeping Modal warm\n",
    "\n",
    "## A way to improve the speed of the Modal pricer service\n",
    "\n",
    "A student mentioned to me that he was concerned by how slow Modal seems to be. The reason is that Modal puts our service to sleep if we don't use it, and then it takes 2.5 minutes to spin back up.\n",
    "\n",
    "I've added a utility called `keep_warm.py` that will keep our Modal warm by pinging it every 30 seconds.\n",
    "\n",
    "To use the utliity, bring up a new Terminal (Mac) or Anaconda prompt (Windows), ensure the environment is activated with `conda activate llms`\n",
    "\n",
    "Then run: `python keep_warm.py` from within the week8 drectory.\n",
    "\n",
    "Remember to press ctrl+C or exit the window when you no longer need Modal running.\n"
   ]
  },
  {
   "cell_type": "markdown",
   "id": "3754cfdd-ae28-47c8-91f2-6e060e2c91b3",
   "metadata": {
    "id": "3754cfdd-ae28-47c8-91f2-6e060e2c91b3"
   },
   "source": [
    "## And now introducing our Agent class"
   ]
  },
  {
   "cell_type": "code",
   "execution_count": null,
   "id": "ba9aedca-6a7b-4d30-9f64-59d76f76fb6d",
   "metadata": {
    "id": "ba9aedca-6a7b-4d30-9f64-59d76f76fb6d"
   },
   "outputs": [],
   "source": [
    "from agents.specialist_agent import SpecialistAgent"
   ]
  },
  {
   "cell_type": "code",
   "execution_count": null,
   "id": "fe5843e5-e958-4a65-8326-8f5b4686de7f",
   "metadata": {
    "colab": {
     "base_uri": "https://localhost:8080/"
    },
    "id": "fe5843e5-e958-4a65-8326-8f5b4686de7f",
    "outputId": "489755bc-3a5b-40f9-b75f-352dccf02251"
   },
   "outputs": [
    {
     "name": "stderr",
     "output_type": "stream",
     "text": [
      "/usr/lib/python3.11/asyncio/events.py:84: DeprecationError: 2025-01-27: `modal.Cls.lookup` is deprecated and will be removed in a future release. It can be replaced with `modal.Cls.from_name`.\n",
      "\n",
      "See https://modal.com/docs/guide/modal-1-0-migration for more information.\n",
      "  self._context.run(self._callback, *self._args)\n"
     ]
    },
    {
     "data": {
      "text/plain": [
       "1299.0"
      ]
     },
     "execution_count": 30,
     "metadata": {},
     "output_type": "execute_result"
    }
   ],
   "source": [
    "agent = SpecialistAgent()\n",
    "agent.price(\"iPad Pro 2nd generation\")"
   ]
  },
  {
   "cell_type": "code",
   "execution_count": null,
   "id": "f5a3181b-1310-4102-8d7d-52caf4c00538",
   "metadata": {
    "id": "f5a3181b-1310-4102-8d7d-52caf4c00538"
   },
   "outputs": [],
   "source": []
  }
 ],
 "metadata": {
  "colab": {
   "provenance": []
  },
  "kernelspec": {
   "display_name": "Python 3 (ipykernel)",
   "language": "python",
   "name": "python3"
  },
  "language_info": {
   "codemirror_mode": {
    "name": "ipython",
    "version": 3
   },
   "file_extension": ".py",
   "mimetype": "text/x-python",
   "name": "python",
   "nbconvert_exporter": "python",
   "pygments_lexer": "ipython3",
   "version": "3.12.7"
  },
  "widgets": {
   "application/vnd.jupyter.widget-state+json": {
    "0cb7289efd5444c287314ac751d2e3f4": {
     "model_module": "@jupyter-widgets/output",
     "model_module_version": "1.0.0",
     "model_name": "OutputModel",
     "state": {
      "_dom_classes": [],
      "_model_module": "@jupyter-widgets/output",
      "_model_module_version": "1.0.0",
      "_model_name": "OutputModel",
      "_view_count": null,
      "_view_module": "@jupyter-widgets/output",
      "_view_module_version": "1.0.0",
      "_view_name": "OutputView",
      "layout": "IPY_MODEL_1c7780b2341a47e7a69542a7ec4653fd",
      "msg_id": "",
      "outputs": [
       {
        "data": {
         "text/html": "<pre style=\"white-space:pre;overflow-x:auto;line-height:normal;font-family:Menlo,'DejaVu Sans Mono',consolas,'Courier New',monospace\"><span style=\"color: #000080; text-decoration-color: #000080\">⠸</span> Creating objects...\n<span style=\"color: #808080; text-decoration-color: #808080\">├── </span><span style=\"color: #000080; text-decoration-color: #000080\">⠋</span> Creating mount PythonPackage:modal_tokens: Uploaded 0/1 files\n<span style=\"color: #808080; text-decoration-color: #808080\">├── </span><span style=\"color: #000080; text-decoration-color: #000080\">⠋</span> Creating mount /content/drive/MyDrive/Multi-Agent-System/llama.py: Uploaded 0/1 files\n<span style=\"color: #808080; text-decoration-color: #808080\">└── </span><span style=\"color: #000080; text-decoration-color: #000080\">⠋</span>\n</pre>\n",
         "text/plain": "\u001b[34m⠸\u001b[0m Creating objects...\n\u001b[38;5;244m├── \u001b[0m\u001b[34m⠋\u001b[0m Creating mount PythonPackage:modal_tokens: Uploaded 0/1 files\n\u001b[38;5;244m├── \u001b[0m\u001b[34m⠋\u001b[0m Creating mount /content/drive/MyDrive/Multi-Agent-System/llama.py: Uploaded 0/1 files\n\u001b[38;5;244m└── \u001b[0m\u001b[34m⠋\u001b[0m\n"
        },
        "metadata": {},
        "output_type": "display_data"
       }
      ]
     }
    },
    "1c7780b2341a47e7a69542a7ec4653fd": {
     "model_module": "@jupyter-widgets/base",
     "model_module_version": "1.2.0",
     "model_name": "LayoutModel",
     "state": {
      "_model_module": "@jupyter-widgets/base",
      "_model_module_version": "1.2.0",
      "_model_name": "LayoutModel",
      "_view_count": null,
      "_view_module": "@jupyter-widgets/base",
      "_view_module_version": "1.2.0",
      "_view_name": "LayoutView",
      "align_content": null,
      "align_items": null,
      "align_self": null,
      "border": null,
      "bottom": null,
      "display": null,
      "flex": null,
      "flex_flow": null,
      "grid_area": null,
      "grid_auto_columns": null,
      "grid_auto_flow": null,
      "grid_auto_rows": null,
      "grid_column": null,
      "grid_gap": null,
      "grid_row": null,
      "grid_template_areas": null,
      "grid_template_columns": null,
      "grid_template_rows": null,
      "height": null,
      "justify_content": null,
      "justify_items": null,
      "left": null,
      "margin": null,
      "max_height": null,
      "max_width": null,
      "min_height": null,
      "min_width": null,
      "object_fit": null,
      "object_position": null,
      "order": null,
      "overflow": null,
      "overflow_x": null,
      "overflow_y": null,
      "padding": null,
      "right": null,
      "top": null,
      "visibility": null,
      "width": null
     }
    },
    "2cc971d770584f11af1b9399aafc9091": {
     "model_module": "@jupyter-widgets/base",
     "model_module_version": "1.2.0",
     "model_name": "LayoutModel",
     "state": {
      "_model_module": "@jupyter-widgets/base",
      "_model_module_version": "1.2.0",
      "_model_name": "LayoutModel",
      "_view_count": null,
      "_view_module": "@jupyter-widgets/base",
      "_view_module_version": "1.2.0",
      "_view_name": "LayoutView",
      "align_content": null,
      "align_items": null,
      "align_self": null,
      "border": null,
      "bottom": null,
      "display": null,
      "flex": null,
      "flex_flow": null,
      "grid_area": null,
      "grid_auto_columns": null,
      "grid_auto_flow": null,
      "grid_auto_rows": null,
      "grid_column": null,
      "grid_gap": null,
      "grid_row": null,
      "grid_template_areas": null,
      "grid_template_columns": null,
      "grid_template_rows": null,
      "height": null,
      "justify_content": null,
      "justify_items": null,
      "left": null,
      "margin": null,
      "max_height": null,
      "max_width": null,
      "min_height": null,
      "min_width": null,
      "object_fit": null,
      "object_position": null,
      "order": null,
      "overflow": null,
      "overflow_x": null,
      "overflow_y": null,
      "padding": null,
      "right": null,
      "top": null,
      "visibility": null,
      "width": null
     }
    },
    "437340e721c7410a95d1d1894ceeab32": {
     "model_module": "@jupyter-widgets/output",
     "model_module_version": "1.0.0",
     "model_name": "OutputModel",
     "state": {
      "_dom_classes": [],
      "_model_module": "@jupyter-widgets/output",
      "_model_module_version": "1.0.0",
      "_model_name": "OutputModel",
      "_view_count": null,
      "_view_module": "@jupyter-widgets/output",
      "_view_module_version": "1.0.0",
      "_view_name": "OutputView",
      "layout": "IPY_MODEL_954950e627294255bbb99c14cf947952",
      "msg_id": "",
      "outputs": [
       {
        "data": {
         "text/html": "<pre style=\"white-space:pre;overflow-x:auto;line-height:normal;font-family:Menlo,'DejaVu Sans Mono',consolas,'Courier New',monospace\"><span style=\"color: #000080; text-decoration-color: #000080\">⠸</span> Creating objects...\n<span style=\"color: #808080; text-decoration-color: #808080\">├── </span><span style=\"color: #000080; text-decoration-color: #000080\">⠋</span> Creating mount PythonPackage:modal_tokens: Finalizing index of 1 files\n<span style=\"color: #808080; text-decoration-color: #808080\">├── </span><span style=\"color: #000080; text-decoration-color: #000080\">⠋</span> Creating mount /content/drive/MyDrive/Multi-Agent-System/pricer_ephemeral.py: Uploaded 0/1 files\n<span style=\"color: #808080; text-decoration-color: #808080\">├── </span><span style=\"color: #000080; text-decoration-color: #000080\">⠋</span> Creating mount PythonPackage🦙 Uploaded 0/1 files\n<span style=\"color: #808080; text-decoration-color: #808080\">└── </span><span style=\"color: #000080; text-decoration-color: #000080\">⠋</span> Creating mount PythonPackage:hello: Uploaded 0/1 files\n</pre>\n",
         "text/plain": "\u001b[34m⠸\u001b[0m Creating objects...\n\u001b[38;5;244m├── \u001b[0m\u001b[34m⠋\u001b[0m Creating mount PythonPackage:modal_tokens: Finalizing index of 1 files\n\u001b[38;5;244m├── \u001b[0m\u001b[34m⠋\u001b[0m Creating mount /content/drive/MyDrive/Multi-Agent-System/pricer_ephemeral.py: Uploaded 0/1 files\n\u001b[38;5;244m├── \u001b[0m\u001b[34m⠋\u001b[0m Creating mount PythonPackage🦙 Uploaded 0/1 files\n\u001b[38;5;244m└── \u001b[0m\u001b[34m⠋\u001b[0m Creating mount PythonPackage:hello: Uploaded 0/1 files\n"
        },
        "metadata": {},
        "output_type": "display_data"
       }
      ]
     }
    },
    "71ad2905b6d745bd882be47c402d5e1f": {
     "model_module": "@jupyter-widgets/output",
     "model_module_version": "1.0.0",
     "model_name": "OutputModel",
     "state": {
      "_dom_classes": [],
      "_model_module": "@jupyter-widgets/output",
      "_model_module_version": "1.0.0",
      "_model_name": "OutputModel",
      "_view_count": null,
      "_view_module": "@jupyter-widgets/output",
      "_view_module_version": "1.0.0",
      "_view_name": "OutputView",
      "layout": "IPY_MODEL_2cc971d770584f11af1b9399aafc9091",
      "msg_id": "",
      "outputs": [
       {
        "data": {
         "text/html": "<pre style=\"white-space:pre;overflow-x:auto;line-height:normal;font-family:Menlo,'DejaVu Sans Mono',consolas,'Courier New',monospace\"><span style=\"color: #000080; text-decoration-color: #000080\">⠹</span> <span style=\"color: #000080; text-decoration-color: #000080\">Running (1/1 containers active)...</span> <span style=\"color: #b2b2b2; text-decoration-color: #b2b2b2\">View app at </span><span style=\"color: #b2b2b2; text-decoration-color: #b2b2b2; text-decoration: underline\">https://modal.com/apps/pauldavid551/main/ap-bHZtDu482Elp7MMffNOMvz</span>\n</pre>\n",
         "text/plain": "\u001b[34m⠹\u001b[0m \u001b[34mRunning (1/1 containers active)...\u001b[0m \u001b[38;5;249mView app at \u001b[0m\u001b[4;38;5;249mhttps://modal.com/apps/pauldavid551/main/ap-bHZtDu482Elp7MMffNOMvz\u001b[0m\n"
        },
        "metadata": {},
        "output_type": "display_data"
       }
      ]
     }
    },
    "7c0a3c492ea245a4a2c6b20ebb74bf99": {
     "model_module": "@jupyter-widgets/output",
     "model_module_version": "1.0.0",
     "model_name": "OutputModel",
     "state": {
      "_dom_classes": [],
      "_model_module": "@jupyter-widgets/output",
      "_model_module_version": "1.0.0",
      "_model_name": "OutputModel",
      "_view_count": null,
      "_view_module": "@jupyter-widgets/output",
      "_view_module_version": "1.0.0",
      "_view_name": "OutputView",
      "layout": "IPY_MODEL_7f9fb5bbd094494fbe78348168dd3b64",
      "msg_id": "",
      "outputs": [
       {
        "data": {
         "text/html": "<pre style=\"white-space:pre;overflow-x:auto;line-height:normal;font-family:Menlo,'DejaVu Sans Mono',consolas,'Courier New',monospace\"><span style=\"color: #000080; text-decoration-color: #000080\">⠇</span> <span style=\"color: #000080; text-decoration-color: #000080\">Running (1/1 containers active)...</span> <span style=\"color: #b2b2b2; text-decoration-color: #b2b2b2\">View app at </span><span style=\"color: #b2b2b2; text-decoration-color: #b2b2b2; text-decoration: underline\">https://modal.com/apps/pauldavid551/main/ap-Yi62xERjIbWHUpWLdJM8SS</span>\n</pre>\n",
         "text/plain": "\u001b[34m⠇\u001b[0m \u001b[34mRunning (1/1 containers active)...\u001b[0m \u001b[38;5;249mView app at \u001b[0m\u001b[4;38;5;249mhttps://modal.com/apps/pauldavid551/main/ap-Yi62xERjIbWHUpWLdJM8SS\u001b[0m\n"
        },
        "metadata": {},
        "output_type": "display_data"
       }
      ]
     }
    },
    "7f9fb5bbd094494fbe78348168dd3b64": {
     "model_module": "@jupyter-widgets/base",
     "model_module_version": "1.2.0",
     "model_name": "LayoutModel",
     "state": {
      "_model_module": "@jupyter-widgets/base",
      "_model_module_version": "1.2.0",
      "_model_name": "LayoutModel",
      "_view_count": null,
      "_view_module": "@jupyter-widgets/base",
      "_view_module_version": "1.2.0",
      "_view_name": "LayoutView",
      "align_content": null,
      "align_items": null,
      "align_self": null,
      "border": null,
      "bottom": null,
      "display": null,
      "flex": null,
      "flex_flow": null,
      "grid_area": null,
      "grid_auto_columns": null,
      "grid_auto_flow": null,
      "grid_auto_rows": null,
      "grid_column": null,
      "grid_gap": null,
      "grid_row": null,
      "grid_template_areas": null,
      "grid_template_columns": null,
      "grid_template_rows": null,
      "height": null,
      "justify_content": null,
      "justify_items": null,
      "left": null,
      "margin": null,
      "max_height": null,
      "max_width": null,
      "min_height": null,
      "min_width": null,
      "object_fit": null,
      "object_position": null,
      "order": null,
      "overflow": null,
      "overflow_x": null,
      "overflow_y": null,
      "padding": null,
      "right": null,
      "top": null,
      "visibility": null,
      "width": null
     }
    },
    "954950e627294255bbb99c14cf947952": {
     "model_module": "@jupyter-widgets/base",
     "model_module_version": "1.2.0",
     "model_name": "LayoutModel",
     "state": {
      "_model_module": "@jupyter-widgets/base",
      "_model_module_version": "1.2.0",
      "_model_name": "LayoutModel",
      "_view_count": null,
      "_view_module": "@jupyter-widgets/base",
      "_view_module_version": "1.2.0",
      "_view_name": "LayoutView",
      "align_content": null,
      "align_items": null,
      "align_self": null,
      "border": null,
      "bottom": null,
      "display": null,
      "flex": null,
      "flex_flow": null,
      "grid_area": null,
      "grid_auto_columns": null,
      "grid_auto_flow": null,
      "grid_auto_rows": null,
      "grid_column": null,
      "grid_gap": null,
      "grid_row": null,
      "grid_template_areas": null,
      "grid_template_columns": null,
      "grid_template_rows": null,
      "height": null,
      "justify_content": null,
      "justify_items": null,
      "left": null,
      "margin": null,
      "max_height": null,
      "max_width": null,
      "min_height": null,
      "min_width": null,
      "object_fit": null,
      "object_position": null,
      "order": null,
      "overflow": null,
      "overflow_x": null,
      "overflow_y": null,
      "padding": null,
      "right": null,
      "top": null,
      "visibility": null,
      "width": null
     }
    },
    "a891f5fa3e92455c8eddcdee81b6b32a": {
     "model_module": "@jupyter-widgets/output",
     "model_module_version": "1.0.0",
     "model_name": "OutputModel",
     "state": {
      "_dom_classes": [],
      "_model_module": "@jupyter-widgets/output",
      "_model_module_version": "1.0.0",
      "_model_name": "OutputModel",
      "_view_count": null,
      "_view_module": "@jupyter-widgets/output",
      "_view_module_version": "1.0.0",
      "_view_name": "OutputView",
      "layout": "IPY_MODEL_b4ac8e6de172464dbfc3fb1e4c538bcd",
      "msg_id": "",
      "outputs": [
       {
        "data": {
         "text/html": "<pre style=\"white-space:pre;overflow-x:auto;line-height:normal;font-family:Menlo,'DejaVu Sans Mono',consolas,'Courier New',monospace\"><span style=\"color: #000080; text-decoration-color: #000080\">⠋</span> Initializing...\n</pre>\n",
         "text/plain": "\u001b[34m⠋\u001b[0m Initializing...\n"
        },
        "metadata": {},
        "output_type": "display_data"
       }
      ]
     }
    },
    "b4ac8e6de172464dbfc3fb1e4c538bcd": {
     "model_module": "@jupyter-widgets/base",
     "model_module_version": "1.2.0",
     "model_name": "LayoutModel",
     "state": {
      "_model_module": "@jupyter-widgets/base",
      "_model_module_version": "1.2.0",
      "_model_name": "LayoutModel",
      "_view_count": null,
      "_view_module": "@jupyter-widgets/base",
      "_view_module_version": "1.2.0",
      "_view_name": "LayoutView",
      "align_content": null,
      "align_items": null,
      "align_self": null,
      "border": null,
      "bottom": null,
      "display": null,
      "flex": null,
      "flex_flow": null,
      "grid_area": null,
      "grid_auto_columns": null,
      "grid_auto_flow": null,
      "grid_auto_rows": null,
      "grid_column": null,
      "grid_gap": null,
      "grid_row": null,
      "grid_template_areas": null,
      "grid_template_columns": null,
      "grid_template_rows": null,
      "height": null,
      "justify_content": null,
      "justify_items": null,
      "left": null,
      "margin": null,
      "max_height": null,
      "max_width": null,
      "min_height": null,
      "min_width": null,
      "object_fit": null,
      "object_position": null,
      "order": null,
      "overflow": null,
      "overflow_x": null,
      "overflow_y": null,
      "padding": null,
      "right": null,
      "top": null,
      "visibility": null,
      "width": null
     }
    },
    "b596fd3d579b4731a03d7f2bb5625d66": {
     "model_module": "@jupyter-widgets/base",
     "model_module_version": "1.2.0",
     "model_name": "LayoutModel",
     "state": {
      "_model_module": "@jupyter-widgets/base",
      "_model_module_version": "1.2.0",
      "_model_name": "LayoutModel",
      "_view_count": null,
      "_view_module": "@jupyter-widgets/base",
      "_view_module_version": "1.2.0",
      "_view_name": "LayoutView",
      "align_content": null,
      "align_items": null,
      "align_self": null,
      "border": null,
      "bottom": null,
      "display": null,
      "flex": null,
      "flex_flow": null,
      "grid_area": null,
      "grid_auto_columns": null,
      "grid_auto_flow": null,
      "grid_auto_rows": null,
      "grid_column": null,
      "grid_gap": null,
      "grid_row": null,
      "grid_template_areas": null,
      "grid_template_columns": null,
      "grid_template_rows": null,
      "height": null,
      "justify_content": null,
      "justify_items": null,
      "left": null,
      "margin": null,
      "max_height": null,
      "max_width": null,
      "min_height": null,
      "min_width": null,
      "object_fit": null,
      "object_position": null,
      "order": null,
      "overflow": null,
      "overflow_x": null,
      "overflow_y": null,
      "padding": null,
      "right": null,
      "top": null,
      "visibility": null,
      "width": null
     }
    },
    "b9b464bf508842dfb22b072f67daa887": {
     "model_module": "@jupyter-widgets/output",
     "model_module_version": "1.0.0",
     "model_name": "OutputModel",
     "state": {
      "_dom_classes": [],
      "_model_module": "@jupyter-widgets/output",
      "_model_module_version": "1.0.0",
      "_model_name": "OutputModel",
      "_view_count": null,
      "_view_module": "@jupyter-widgets/output",
      "_view_module_version": "1.0.0",
      "_view_name": "OutputView",
      "layout": "IPY_MODEL_b596fd3d579b4731a03d7f2bb5625d66",
      "msg_id": "",
      "outputs": [
       {
        "data": {
         "text/html": "<pre style=\"white-space:pre;overflow-x:auto;line-height:normal;font-family:Menlo,'DejaVu Sans Mono',consolas,'Courier New',monospace\"><span style=\"color: #000080; text-decoration-color: #000080\">⠋</span> Initializing...\n</pre>\n",
         "text/plain": "\u001b[34m⠋\u001b[0m Initializing...\n"
        },
        "metadata": {},
        "output_type": "display_data"
       }
      ]
     }
    }
   }
  }
 },
 "nbformat": 4,
 "nbformat_minor": 5
}
